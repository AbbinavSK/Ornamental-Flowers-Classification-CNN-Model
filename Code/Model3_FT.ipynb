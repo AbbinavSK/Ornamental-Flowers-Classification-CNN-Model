{
  "cells": [
    {
      "cell_type": "markdown",
      "metadata": {
        "id": "gd79RzIdV-kc"
      },
      "source": [
        "# Model 3 Fine Tuning\n",
        "- Transfer learning with ConvNeXtTiny"
      ]
    },
    {
      "cell_type": "code",
      "execution_count": 1,
      "metadata": {
        "colab": {
          "base_uri": "https://localhost:8080/"
        },
        "id": "fKlPZLUp9rqW",
        "outputId": "e116858e-429c-446b-a186-e97d6c2f8d84"
      },
      "outputs": [
        {
          "output_type": "stream",
          "name": "stdout",
          "text": [
            "2.15.0\n"
          ]
        }
      ],
      "source": [
        "import tensorflow as tf\n",
        "print(tf.__version__)\n",
        "\n",
        "from tensorflow import keras\n",
        "import tensorflow_hub as hub\n",
        "tf.random.set_seed(42)\n",
        "\n",
        "import numpy as np\n",
        "np.random.seed(42)\n",
        "\n",
        "import matplotlib.pyplot as plt\n",
        "%matplotlib inline"
      ]
    },
    {
      "cell_type": "code",
      "source": [
        "from google.colab import drive\n",
        "drive.mount('/content/drive/')"
      ],
      "metadata": {
        "colab": {
          "base_uri": "https://localhost:8080/"
        },
        "id": "lVHLgh_Dhnqy",
        "outputId": "e8591504-e672-4a92-ab2d-e55ff1b6719a"
      },
      "execution_count": 2,
      "outputs": [
        {
          "output_type": "stream",
          "name": "stdout",
          "text": [
            "Mounted at /content/drive/\n"
          ]
        }
      ]
    },
    {
      "cell_type": "markdown",
      "metadata": {
        "id": "qhYINN8eWGuz"
      },
      "source": [
        "## Load the processed dataset from Model3_TL"
      ]
    },
    {
      "cell_type": "code",
      "execution_count": 3,
      "metadata": {
        "id": "JH7l_ERa8kZl"
      },
      "outputs": [],
      "source": [
        "# load numpy array from npy file\n",
        "from numpy import load\n",
        "\n",
        "X_train_std = load(\"/content/drive/MyDrive/Abbinav's Portfolio/Transfer Learning CNN project/Models/X_train_std3.npy\")\n",
        "X_test_std = load(\"/content/drive/MyDrive/Abbinav's Portfolio/Transfer Learning CNN project/Models/X_test_std3.npy\")\n",
        "\n",
        "y_train = load(\"/content/drive/MyDrive/Abbinav's Portfolio/Transfer Learning CNN project/Models/y_train3.npy\")\n",
        "y_test = load(\"/content/drive/MyDrive/Abbinav's Portfolio/Transfer Learning CNN project/Models/y_test3.npy\")"
      ]
    },
    {
      "cell_type": "code",
      "execution_count": 4,
      "metadata": {
        "colab": {
          "base_uri": "https://localhost:8080/"
        },
        "id": "Su9vbZpW9hjn",
        "outputId": "1a7b353e-a0f1-4601-dbab-03d09e5285d3"
      },
      "outputs": [
        {
          "output_type": "stream",
          "name": "stdout",
          "text": [
            "X_train_std_shape: (809, 299, 299, 3)\n",
            "X_test_std_shape: (270, 299, 299, 3)\n"
          ]
        }
      ],
      "source": [
        "print(\"X_train_std_shape: {}\".format(X_train_std.shape))\n",
        "print(\"X_test_std_shape: {}\".format(X_test_std.shape))"
      ]
    },
    {
      "cell_type": "markdown",
      "metadata": {
        "id": "47080wehWPvd"
      },
      "source": [
        "## Load the model from Model3_TL\n",
        "- We apply fine tuning on this model"
      ]
    },
    {
      "cell_type": "code",
      "execution_count": 6,
      "metadata": {
        "id": "_24W26Kc92VG",
        "colab": {
          "base_uri": "https://localhost:8080/"
        },
        "outputId": "0ba6b0a8-004c-45a1-deb6-f99be8333fb1"
      },
      "outputs": [
        {
          "output_type": "stream",
          "name": "stdout",
          "text": [
            "Model: \"model_1\"\n",
            "__________________________________________________________________________________________________\n",
            " Layer (type)                Output Shape                 Param #   Connected to                  \n",
            "==================================================================================================\n",
            " input_2 (InputLayer)        [(None, None, None, 3)]      0         []                            \n",
            "                                                                                                  \n",
            " convnext_tiny_prestem_norm  (None, None, None, 3)        0         ['input_2[0][0]']             \n",
            " alization (Normalization)                                                                        \n",
            "                                                                                                  \n",
            " convnext_tiny_stem (Sequen  (None, None, None, 96)       4896      ['convnext_tiny_prestem_normal\n",
            " tial)                                                              ization[0][0]']               \n",
            "                                                                                                  \n",
            " convnext_tiny_stage_0_bloc  (None, None, None, 96)       4800      ['convnext_tiny_stem[0][0]']  \n",
            " k_0_depthwise_conv (Conv2D                                                                       \n",
            " )                                                                                                \n",
            "                                                                                                  \n",
            " convnext_tiny_stage_0_bloc  (None, None, None, 96)       192       ['convnext_tiny_stage_0_block_\n",
            " k_0_layernorm (LayerNormal                                         0_depthwise_conv[0][0]']      \n",
            " ization)                                                                                         \n",
            "                                                                                                  \n",
            " convnext_tiny_stage_0_bloc  (None, None, None, 384)      37248     ['convnext_tiny_stage_0_block_\n",
            " k_0_pointwise_conv_1 (Dens                                         0_layernorm[0][0]']           \n",
            " e)                                                                                               \n",
            "                                                                                                  \n",
            " convnext_tiny_stage_0_bloc  (None, None, None, 384)      0         ['convnext_tiny_stage_0_block_\n",
            " k_0_gelu (Activation)                                              0_pointwise_conv_1[0][0]']    \n",
            "                                                                                                  \n",
            " convnext_tiny_stage_0_bloc  (None, None, None, 96)       36960     ['convnext_tiny_stage_0_block_\n",
            " k_0_pointwise_conv_2 (Dens                                         0_gelu[0][0]']                \n",
            " e)                                                                                               \n",
            "                                                                                                  \n",
            " convnext_tiny_stage_0_bloc  (None, None, None, 96)       96        ['convnext_tiny_stage_0_block_\n",
            " k_0_layer_scale (LayerScal                                         0_pointwise_conv_2[0][0]']    \n",
            " e)                                                                                               \n",
            "                                                                                                  \n",
            " convnext_tiny_stage_0_bloc  (None, None, None, 96)       0         ['convnext_tiny_stage_0_block_\n",
            " k_0_identity (Activation)                                          0_layer_scale[0][0]']         \n",
            "                                                                                                  \n",
            " tf.__operators__.add_18 (T  (None, None, None, 96)       0         ['convnext_tiny_stem[0][0]',  \n",
            " FOpLambda)                                                          'convnext_tiny_stage_0_block_\n",
            "                                                                    0_identity[0][0]']            \n",
            "                                                                                                  \n",
            " convnext_tiny_stage_0_bloc  (None, None, None, 96)       4800      ['tf.__operators__.add_18[0][0\n",
            " k_1_depthwise_conv (Conv2D                                         ]']                           \n",
            " )                                                                                                \n",
            "                                                                                                  \n",
            " convnext_tiny_stage_0_bloc  (None, None, None, 96)       192       ['convnext_tiny_stage_0_block_\n",
            " k_1_layernorm (LayerNormal                                         1_depthwise_conv[0][0]']      \n",
            " ization)                                                                                         \n",
            "                                                                                                  \n",
            " convnext_tiny_stage_0_bloc  (None, None, None, 384)      37248     ['convnext_tiny_stage_0_block_\n",
            " k_1_pointwise_conv_1 (Dens                                         1_layernorm[0][0]']           \n",
            " e)                                                                                               \n",
            "                                                                                                  \n",
            " convnext_tiny_stage_0_bloc  (None, None, None, 384)      0         ['convnext_tiny_stage_0_block_\n",
            " k_1_gelu (Activation)                                              1_pointwise_conv_1[0][0]']    \n",
            "                                                                                                  \n",
            " convnext_tiny_stage_0_bloc  (None, None, None, 96)       36960     ['convnext_tiny_stage_0_block_\n",
            " k_1_pointwise_conv_2 (Dens                                         1_gelu[0][0]']                \n",
            " e)                                                                                               \n",
            "                                                                                                  \n",
            " convnext_tiny_stage_0_bloc  (None, None, None, 96)       96        ['convnext_tiny_stage_0_block_\n",
            " k_1_layer_scale (LayerScal                                         1_pointwise_conv_2[0][0]']    \n",
            " e)                                                                                               \n",
            "                                                                                                  \n",
            " convnext_tiny_stage_0_bloc  (None, None, None, 96)       0         ['convnext_tiny_stage_0_block_\n",
            " k_1_identity (Activation)                                          1_layer_scale[0][0]']         \n",
            "                                                                                                  \n",
            " tf.__operators__.add_19 (T  (None, None, None, 96)       0         ['tf.__operators__.add_18[0][0\n",
            " FOpLambda)                                                         ]',                           \n",
            "                                                                     'convnext_tiny_stage_0_block_\n",
            "                                                                    1_identity[0][0]']            \n",
            "                                                                                                  \n",
            " convnext_tiny_stage_0_bloc  (None, None, None, 96)       4800      ['tf.__operators__.add_19[0][0\n",
            " k_2_depthwise_conv (Conv2D                                         ]']                           \n",
            " )                                                                                                \n",
            "                                                                                                  \n",
            " convnext_tiny_stage_0_bloc  (None, None, None, 96)       192       ['convnext_tiny_stage_0_block_\n",
            " k_2_layernorm (LayerNormal                                         2_depthwise_conv[0][0]']      \n",
            " ization)                                                                                         \n",
            "                                                                                                  \n",
            " convnext_tiny_stage_0_bloc  (None, None, None, 384)      37248     ['convnext_tiny_stage_0_block_\n",
            " k_2_pointwise_conv_1 (Dens                                         2_layernorm[0][0]']           \n",
            " e)                                                                                               \n",
            "                                                                                                  \n",
            " convnext_tiny_stage_0_bloc  (None, None, None, 384)      0         ['convnext_tiny_stage_0_block_\n",
            " k_2_gelu (Activation)                                              2_pointwise_conv_1[0][0]']    \n",
            "                                                                                                  \n",
            " convnext_tiny_stage_0_bloc  (None, None, None, 96)       36960     ['convnext_tiny_stage_0_block_\n",
            " k_2_pointwise_conv_2 (Dens                                         2_gelu[0][0]']                \n",
            " e)                                                                                               \n",
            "                                                                                                  \n",
            " convnext_tiny_stage_0_bloc  (None, None, None, 96)       96        ['convnext_tiny_stage_0_block_\n",
            " k_2_layer_scale (LayerScal                                         2_pointwise_conv_2[0][0]']    \n",
            " e)                                                                                               \n",
            "                                                                                                  \n",
            " convnext_tiny_stage_0_bloc  (None, None, None, 96)       0         ['convnext_tiny_stage_0_block_\n",
            " k_2_identity (Activation)                                          2_layer_scale[0][0]']         \n",
            "                                                                                                  \n",
            " tf.__operators__.add_20 (T  (None, None, None, 96)       0         ['tf.__operators__.add_19[0][0\n",
            " FOpLambda)                                                         ]',                           \n",
            "                                                                     'convnext_tiny_stage_0_block_\n",
            "                                                                    2_identity[0][0]']            \n",
            "                                                                                                  \n",
            " convnext_tiny_downsampling  (None, None, None, 192)      74112     ['tf.__operators__.add_20[0][0\n",
            " _block_0 (Sequential)                                              ]']                           \n",
            "                                                                                                  \n",
            " convnext_tiny_stage_1_bloc  (None, None, None, 192)      9600      ['convnext_tiny_downsampling_b\n",
            " k_0_depthwise_conv (Conv2D                                         lock_0[0][0]']                \n",
            " )                                                                                                \n",
            "                                                                                                  \n",
            " convnext_tiny_stage_1_bloc  (None, None, None, 192)      384       ['convnext_tiny_stage_1_block_\n",
            " k_0_layernorm (LayerNormal                                         0_depthwise_conv[0][0]']      \n",
            " ization)                                                                                         \n",
            "                                                                                                  \n",
            " convnext_tiny_stage_1_bloc  (None, None, None, 768)      148224    ['convnext_tiny_stage_1_block_\n",
            " k_0_pointwise_conv_1 (Dens                                         0_layernorm[0][0]']           \n",
            " e)                                                                                               \n",
            "                                                                                                  \n",
            " convnext_tiny_stage_1_bloc  (None, None, None, 768)      0         ['convnext_tiny_stage_1_block_\n",
            " k_0_gelu (Activation)                                              0_pointwise_conv_1[0][0]']    \n",
            "                                                                                                  \n",
            " convnext_tiny_stage_1_bloc  (None, None, None, 192)      147648    ['convnext_tiny_stage_1_block_\n",
            " k_0_pointwise_conv_2 (Dens                                         0_gelu[0][0]']                \n",
            " e)                                                                                               \n",
            "                                                                                                  \n",
            " convnext_tiny_stage_1_bloc  (None, None, None, 192)      192       ['convnext_tiny_stage_1_block_\n",
            " k_0_layer_scale (LayerScal                                         0_pointwise_conv_2[0][0]']    \n",
            " e)                                                                                               \n",
            "                                                                                                  \n",
            " convnext_tiny_stage_1_bloc  (None, None, None, 192)      0         ['convnext_tiny_stage_1_block_\n",
            " k_0_identity (Activation)                                          0_layer_scale[0][0]']         \n",
            "                                                                                                  \n",
            " tf.__operators__.add_21 (T  (None, None, None, 192)      0         ['convnext_tiny_downsampling_b\n",
            " FOpLambda)                                                         lock_0[0][0]',                \n",
            "                                                                     'convnext_tiny_stage_1_block_\n",
            "                                                                    0_identity[0][0]']            \n",
            "                                                                                                  \n",
            " convnext_tiny_stage_1_bloc  (None, None, None, 192)      9600      ['tf.__operators__.add_21[0][0\n",
            " k_1_depthwise_conv (Conv2D                                         ]']                           \n",
            " )                                                                                                \n",
            "                                                                                                  \n",
            " convnext_tiny_stage_1_bloc  (None, None, None, 192)      384       ['convnext_tiny_stage_1_block_\n",
            " k_1_layernorm (LayerNormal                                         1_depthwise_conv[0][0]']      \n",
            " ization)                                                                                         \n",
            "                                                                                                  \n",
            " convnext_tiny_stage_1_bloc  (None, None, None, 768)      148224    ['convnext_tiny_stage_1_block_\n",
            " k_1_pointwise_conv_1 (Dens                                         1_layernorm[0][0]']           \n",
            " e)                                                                                               \n",
            "                                                                                                  \n",
            " convnext_tiny_stage_1_bloc  (None, None, None, 768)      0         ['convnext_tiny_stage_1_block_\n",
            " k_1_gelu (Activation)                                              1_pointwise_conv_1[0][0]']    \n",
            "                                                                                                  \n",
            " convnext_tiny_stage_1_bloc  (None, None, None, 192)      147648    ['convnext_tiny_stage_1_block_\n",
            " k_1_pointwise_conv_2 (Dens                                         1_gelu[0][0]']                \n",
            " e)                                                                                               \n",
            "                                                                                                  \n",
            " convnext_tiny_stage_1_bloc  (None, None, None, 192)      192       ['convnext_tiny_stage_1_block_\n",
            " k_1_layer_scale (LayerScal                                         1_pointwise_conv_2[0][0]']    \n",
            " e)                                                                                               \n",
            "                                                                                                  \n",
            " convnext_tiny_stage_1_bloc  (None, None, None, 192)      0         ['convnext_tiny_stage_1_block_\n",
            " k_1_identity (Activation)                                          1_layer_scale[0][0]']         \n",
            "                                                                                                  \n",
            " tf.__operators__.add_22 (T  (None, None, None, 192)      0         ['tf.__operators__.add_21[0][0\n",
            " FOpLambda)                                                         ]',                           \n",
            "                                                                     'convnext_tiny_stage_1_block_\n",
            "                                                                    1_identity[0][0]']            \n",
            "                                                                                                  \n",
            " convnext_tiny_stage_1_bloc  (None, None, None, 192)      9600      ['tf.__operators__.add_22[0][0\n",
            " k_2_depthwise_conv (Conv2D                                         ]']                           \n",
            " )                                                                                                \n",
            "                                                                                                  \n",
            " convnext_tiny_stage_1_bloc  (None, None, None, 192)      384       ['convnext_tiny_stage_1_block_\n",
            " k_2_layernorm (LayerNormal                                         2_depthwise_conv[0][0]']      \n",
            " ization)                                                                                         \n",
            "                                                                                                  \n",
            " convnext_tiny_stage_1_bloc  (None, None, None, 768)      148224    ['convnext_tiny_stage_1_block_\n",
            " k_2_pointwise_conv_1 (Dens                                         2_layernorm[0][0]']           \n",
            " e)                                                                                               \n",
            "                                                                                                  \n",
            " convnext_tiny_stage_1_bloc  (None, None, None, 768)      0         ['convnext_tiny_stage_1_block_\n",
            " k_2_gelu (Activation)                                              2_pointwise_conv_1[0][0]']    \n",
            "                                                                                                  \n",
            " convnext_tiny_stage_1_bloc  (None, None, None, 192)      147648    ['convnext_tiny_stage_1_block_\n",
            " k_2_pointwise_conv_2 (Dens                                         2_gelu[0][0]']                \n",
            " e)                                                                                               \n",
            "                                                                                                  \n",
            " convnext_tiny_stage_1_bloc  (None, None, None, 192)      192       ['convnext_tiny_stage_1_block_\n",
            " k_2_layer_scale (LayerScal                                         2_pointwise_conv_2[0][0]']    \n",
            " e)                                                                                               \n",
            "                                                                                                  \n",
            " convnext_tiny_stage_1_bloc  (None, None, None, 192)      0         ['convnext_tiny_stage_1_block_\n",
            " k_2_identity (Activation)                                          2_layer_scale[0][0]']         \n",
            "                                                                                                  \n",
            " tf.__operators__.add_23 (T  (None, None, None, 192)      0         ['tf.__operators__.add_22[0][0\n",
            " FOpLambda)                                                         ]',                           \n",
            "                                                                     'convnext_tiny_stage_1_block_\n",
            "                                                                    2_identity[0][0]']            \n",
            "                                                                                                  \n",
            " convnext_tiny_downsampling  (None, None, None, 384)      295680    ['tf.__operators__.add_23[0][0\n",
            " _block_1 (Sequential)                                              ]']                           \n",
            "                                                                                                  \n",
            " convnext_tiny_stage_2_bloc  (None, None, None, 384)      19200     ['convnext_tiny_downsampling_b\n",
            " k_0_depthwise_conv (Conv2D                                         lock_1[0][0]']                \n",
            " )                                                                                                \n",
            "                                                                                                  \n",
            " convnext_tiny_stage_2_bloc  (None, None, None, 384)      768       ['convnext_tiny_stage_2_block_\n",
            " k_0_layernorm (LayerNormal                                         0_depthwise_conv[0][0]']      \n",
            " ization)                                                                                         \n",
            "                                                                                                  \n",
            " convnext_tiny_stage_2_bloc  (None, None, None, 1536)     591360    ['convnext_tiny_stage_2_block_\n",
            " k_0_pointwise_conv_1 (Dens                                         0_layernorm[0][0]']           \n",
            " e)                                                                                               \n",
            "                                                                                                  \n",
            " convnext_tiny_stage_2_bloc  (None, None, None, 1536)     0         ['convnext_tiny_stage_2_block_\n",
            " k_0_gelu (Activation)                                              0_pointwise_conv_1[0][0]']    \n",
            "                                                                                                  \n",
            " convnext_tiny_stage_2_bloc  (None, None, None, 384)      590208    ['convnext_tiny_stage_2_block_\n",
            " k_0_pointwise_conv_2 (Dens                                         0_gelu[0][0]']                \n",
            " e)                                                                                               \n",
            "                                                                                                  \n",
            " convnext_tiny_stage_2_bloc  (None, None, None, 384)      384       ['convnext_tiny_stage_2_block_\n",
            " k_0_layer_scale (LayerScal                                         0_pointwise_conv_2[0][0]']    \n",
            " e)                                                                                               \n",
            "                                                                                                  \n",
            " convnext_tiny_stage_2_bloc  (None, None, None, 384)      0         ['convnext_tiny_stage_2_block_\n",
            " k_0_identity (Activation)                                          0_layer_scale[0][0]']         \n",
            "                                                                                                  \n",
            " tf.__operators__.add_24 (T  (None, None, None, 384)      0         ['convnext_tiny_downsampling_b\n",
            " FOpLambda)                                                         lock_1[0][0]',                \n",
            "                                                                     'convnext_tiny_stage_2_block_\n",
            "                                                                    0_identity[0][0]']            \n",
            "                                                                                                  \n",
            " convnext_tiny_stage_2_bloc  (None, None, None, 384)      19200     ['tf.__operators__.add_24[0][0\n",
            " k_1_depthwise_conv (Conv2D                                         ]']                           \n",
            " )                                                                                                \n",
            "                                                                                                  \n",
            " convnext_tiny_stage_2_bloc  (None, None, None, 384)      768       ['convnext_tiny_stage_2_block_\n",
            " k_1_layernorm (LayerNormal                                         1_depthwise_conv[0][0]']      \n",
            " ization)                                                                                         \n",
            "                                                                                                  \n",
            " convnext_tiny_stage_2_bloc  (None, None, None, 1536)     591360    ['convnext_tiny_stage_2_block_\n",
            " k_1_pointwise_conv_1 (Dens                                         1_layernorm[0][0]']           \n",
            " e)                                                                                               \n",
            "                                                                                                  \n",
            " convnext_tiny_stage_2_bloc  (None, None, None, 1536)     0         ['convnext_tiny_stage_2_block_\n",
            " k_1_gelu (Activation)                                              1_pointwise_conv_1[0][0]']    \n",
            "                                                                                                  \n",
            " convnext_tiny_stage_2_bloc  (None, None, None, 384)      590208    ['convnext_tiny_stage_2_block_\n",
            " k_1_pointwise_conv_2 (Dens                                         1_gelu[0][0]']                \n",
            " e)                                                                                               \n",
            "                                                                                                  \n",
            " convnext_tiny_stage_2_bloc  (None, None, None, 384)      384       ['convnext_tiny_stage_2_block_\n",
            " k_1_layer_scale (LayerScal                                         1_pointwise_conv_2[0][0]']    \n",
            " e)                                                                                               \n",
            "                                                                                                  \n",
            " convnext_tiny_stage_2_bloc  (None, None, None, 384)      0         ['convnext_tiny_stage_2_block_\n",
            " k_1_identity (Activation)                                          1_layer_scale[0][0]']         \n",
            "                                                                                                  \n",
            " tf.__operators__.add_25 (T  (None, None, None, 384)      0         ['tf.__operators__.add_24[0][0\n",
            " FOpLambda)                                                         ]',                           \n",
            "                                                                     'convnext_tiny_stage_2_block_\n",
            "                                                                    1_identity[0][0]']            \n",
            "                                                                                                  \n",
            " convnext_tiny_stage_2_bloc  (None, None, None, 384)      19200     ['tf.__operators__.add_25[0][0\n",
            " k_2_depthwise_conv (Conv2D                                         ]']                           \n",
            " )                                                                                                \n",
            "                                                                                                  \n",
            " convnext_tiny_stage_2_bloc  (None, None, None, 384)      768       ['convnext_tiny_stage_2_block_\n",
            " k_2_layernorm (LayerNormal                                         2_depthwise_conv[0][0]']      \n",
            " ization)                                                                                         \n",
            "                                                                                                  \n",
            " convnext_tiny_stage_2_bloc  (None, None, None, 1536)     591360    ['convnext_tiny_stage_2_block_\n",
            " k_2_pointwise_conv_1 (Dens                                         2_layernorm[0][0]']           \n",
            " e)                                                                                               \n",
            "                                                                                                  \n",
            " convnext_tiny_stage_2_bloc  (None, None, None, 1536)     0         ['convnext_tiny_stage_2_block_\n",
            " k_2_gelu (Activation)                                              2_pointwise_conv_1[0][0]']    \n",
            "                                                                                                  \n",
            " convnext_tiny_stage_2_bloc  (None, None, None, 384)      590208    ['convnext_tiny_stage_2_block_\n",
            " k_2_pointwise_conv_2 (Dens                                         2_gelu[0][0]']                \n",
            " e)                                                                                               \n",
            "                                                                                                  \n",
            " convnext_tiny_stage_2_bloc  (None, None, None, 384)      384       ['convnext_tiny_stage_2_block_\n",
            " k_2_layer_scale (LayerScal                                         2_pointwise_conv_2[0][0]']    \n",
            " e)                                                                                               \n",
            "                                                                                                  \n",
            " convnext_tiny_stage_2_bloc  (None, None, None, 384)      0         ['convnext_tiny_stage_2_block_\n",
            " k_2_identity (Activation)                                          2_layer_scale[0][0]']         \n",
            "                                                                                                  \n",
            " tf.__operators__.add_26 (T  (None, None, None, 384)      0         ['tf.__operators__.add_25[0][0\n",
            " FOpLambda)                                                         ]',                           \n",
            "                                                                     'convnext_tiny_stage_2_block_\n",
            "                                                                    2_identity[0][0]']            \n",
            "                                                                                                  \n",
            " convnext_tiny_stage_2_bloc  (None, None, None, 384)      19200     ['tf.__operators__.add_26[0][0\n",
            " k_3_depthwise_conv (Conv2D                                         ]']                           \n",
            " )                                                                                                \n",
            "                                                                                                  \n",
            " convnext_tiny_stage_2_bloc  (None, None, None, 384)      768       ['convnext_tiny_stage_2_block_\n",
            " k_3_layernorm (LayerNormal                                         3_depthwise_conv[0][0]']      \n",
            " ization)                                                                                         \n",
            "                                                                                                  \n",
            " convnext_tiny_stage_2_bloc  (None, None, None, 1536)     591360    ['convnext_tiny_stage_2_block_\n",
            " k_3_pointwise_conv_1 (Dens                                         3_layernorm[0][0]']           \n",
            " e)                                                                                               \n",
            "                                                                                                  \n",
            " convnext_tiny_stage_2_bloc  (None, None, None, 1536)     0         ['convnext_tiny_stage_2_block_\n",
            " k_3_gelu (Activation)                                              3_pointwise_conv_1[0][0]']    \n",
            "                                                                                                  \n",
            " convnext_tiny_stage_2_bloc  (None, None, None, 384)      590208    ['convnext_tiny_stage_2_block_\n",
            " k_3_pointwise_conv_2 (Dens                                         3_gelu[0][0]']                \n",
            " e)                                                                                               \n",
            "                                                                                                  \n",
            " convnext_tiny_stage_2_bloc  (None, None, None, 384)      384       ['convnext_tiny_stage_2_block_\n",
            " k_3_layer_scale (LayerScal                                         3_pointwise_conv_2[0][0]']    \n",
            " e)                                                                                               \n",
            "                                                                                                  \n",
            " convnext_tiny_stage_2_bloc  (None, None, None, 384)      0         ['convnext_tiny_stage_2_block_\n",
            " k_3_identity (Activation)                                          3_layer_scale[0][0]']         \n",
            "                                                                                                  \n",
            " tf.__operators__.add_27 (T  (None, None, None, 384)      0         ['tf.__operators__.add_26[0][0\n",
            " FOpLambda)                                                         ]',                           \n",
            "                                                                     'convnext_tiny_stage_2_block_\n",
            "                                                                    3_identity[0][0]']            \n",
            "                                                                                                  \n",
            " convnext_tiny_stage_2_bloc  (None, None, None, 384)      19200     ['tf.__operators__.add_27[0][0\n",
            " k_4_depthwise_conv (Conv2D                                         ]']                           \n",
            " )                                                                                                \n",
            "                                                                                                  \n",
            " convnext_tiny_stage_2_bloc  (None, None, None, 384)      768       ['convnext_tiny_stage_2_block_\n",
            " k_4_layernorm (LayerNormal                                         4_depthwise_conv[0][0]']      \n",
            " ization)                                                                                         \n",
            "                                                                                                  \n",
            " convnext_tiny_stage_2_bloc  (None, None, None, 1536)     591360    ['convnext_tiny_stage_2_block_\n",
            " k_4_pointwise_conv_1 (Dens                                         4_layernorm[0][0]']           \n",
            " e)                                                                                               \n",
            "                                                                                                  \n",
            " convnext_tiny_stage_2_bloc  (None, None, None, 1536)     0         ['convnext_tiny_stage_2_block_\n",
            " k_4_gelu (Activation)                                              4_pointwise_conv_1[0][0]']    \n",
            "                                                                                                  \n",
            " convnext_tiny_stage_2_bloc  (None, None, None, 384)      590208    ['convnext_tiny_stage_2_block_\n",
            " k_4_pointwise_conv_2 (Dens                                         4_gelu[0][0]']                \n",
            " e)                                                                                               \n",
            "                                                                                                  \n",
            " convnext_tiny_stage_2_bloc  (None, None, None, 384)      384       ['convnext_tiny_stage_2_block_\n",
            " k_4_layer_scale (LayerScal                                         4_pointwise_conv_2[0][0]']    \n",
            " e)                                                                                               \n",
            "                                                                                                  \n",
            " convnext_tiny_stage_2_bloc  (None, None, None, 384)      0         ['convnext_tiny_stage_2_block_\n",
            " k_4_identity (Activation)                                          4_layer_scale[0][0]']         \n",
            "                                                                                                  \n",
            " tf.__operators__.add_28 (T  (None, None, None, 384)      0         ['tf.__operators__.add_27[0][0\n",
            " FOpLambda)                                                         ]',                           \n",
            "                                                                     'convnext_tiny_stage_2_block_\n",
            "                                                                    4_identity[0][0]']            \n",
            "                                                                                                  \n",
            " convnext_tiny_stage_2_bloc  (None, None, None, 384)      19200     ['tf.__operators__.add_28[0][0\n",
            " k_5_depthwise_conv (Conv2D                                         ]']                           \n",
            " )                                                                                                \n",
            "                                                                                                  \n",
            " convnext_tiny_stage_2_bloc  (None, None, None, 384)      768       ['convnext_tiny_stage_2_block_\n",
            " k_5_layernorm (LayerNormal                                         5_depthwise_conv[0][0]']      \n",
            " ization)                                                                                         \n",
            "                                                                                                  \n",
            " convnext_tiny_stage_2_bloc  (None, None, None, 1536)     591360    ['convnext_tiny_stage_2_block_\n",
            " k_5_pointwise_conv_1 (Dens                                         5_layernorm[0][0]']           \n",
            " e)                                                                                               \n",
            "                                                                                                  \n",
            " convnext_tiny_stage_2_bloc  (None, None, None, 1536)     0         ['convnext_tiny_stage_2_block_\n",
            " k_5_gelu (Activation)                                              5_pointwise_conv_1[0][0]']    \n",
            "                                                                                                  \n",
            " convnext_tiny_stage_2_bloc  (None, None, None, 384)      590208    ['convnext_tiny_stage_2_block_\n",
            " k_5_pointwise_conv_2 (Dens                                         5_gelu[0][0]']                \n",
            " e)                                                                                               \n",
            "                                                                                                  \n",
            " convnext_tiny_stage_2_bloc  (None, None, None, 384)      384       ['convnext_tiny_stage_2_block_\n",
            " k_5_layer_scale (LayerScal                                         5_pointwise_conv_2[0][0]']    \n",
            " e)                                                                                               \n",
            "                                                                                                  \n",
            " convnext_tiny_stage_2_bloc  (None, None, None, 384)      0         ['convnext_tiny_stage_2_block_\n",
            " k_5_identity (Activation)                                          5_layer_scale[0][0]']         \n",
            "                                                                                                  \n",
            " tf.__operators__.add_29 (T  (None, None, None, 384)      0         ['tf.__operators__.add_28[0][0\n",
            " FOpLambda)                                                         ]',                           \n",
            "                                                                     'convnext_tiny_stage_2_block_\n",
            "                                                                    5_identity[0][0]']            \n",
            "                                                                                                  \n",
            " convnext_tiny_stage_2_bloc  (None, None, None, 384)      19200     ['tf.__operators__.add_29[0][0\n",
            " k_6_depthwise_conv (Conv2D                                         ]']                           \n",
            " )                                                                                                \n",
            "                                                                                                  \n",
            " convnext_tiny_stage_2_bloc  (None, None, None, 384)      768       ['convnext_tiny_stage_2_block_\n",
            " k_6_layernorm (LayerNormal                                         6_depthwise_conv[0][0]']      \n",
            " ization)                                                                                         \n",
            "                                                                                                  \n",
            " convnext_tiny_stage_2_bloc  (None, None, None, 1536)     591360    ['convnext_tiny_stage_2_block_\n",
            " k_6_pointwise_conv_1 (Dens                                         6_layernorm[0][0]']           \n",
            " e)                                                                                               \n",
            "                                                                                                  \n",
            " convnext_tiny_stage_2_bloc  (None, None, None, 1536)     0         ['convnext_tiny_stage_2_block_\n",
            " k_6_gelu (Activation)                                              6_pointwise_conv_1[0][0]']    \n",
            "                                                                                                  \n",
            " convnext_tiny_stage_2_bloc  (None, None, None, 384)      590208    ['convnext_tiny_stage_2_block_\n",
            " k_6_pointwise_conv_2 (Dens                                         6_gelu[0][0]']                \n",
            " e)                                                                                               \n",
            "                                                                                                  \n",
            " convnext_tiny_stage_2_bloc  (None, None, None, 384)      384       ['convnext_tiny_stage_2_block_\n",
            " k_6_layer_scale (LayerScal                                         6_pointwise_conv_2[0][0]']    \n",
            " e)                                                                                               \n",
            "                                                                                                  \n",
            " convnext_tiny_stage_2_bloc  (None, None, None, 384)      0         ['convnext_tiny_stage_2_block_\n",
            " k_6_identity (Activation)                                          6_layer_scale[0][0]']         \n",
            "                                                                                                  \n",
            " tf.__operators__.add_30 (T  (None, None, None, 384)      0         ['tf.__operators__.add_29[0][0\n",
            " FOpLambda)                                                         ]',                           \n",
            "                                                                     'convnext_tiny_stage_2_block_\n",
            "                                                                    6_identity[0][0]']            \n",
            "                                                                                                  \n",
            " convnext_tiny_stage_2_bloc  (None, None, None, 384)      19200     ['tf.__operators__.add_30[0][0\n",
            " k_7_depthwise_conv (Conv2D                                         ]']                           \n",
            " )                                                                                                \n",
            "                                                                                                  \n",
            " convnext_tiny_stage_2_bloc  (None, None, None, 384)      768       ['convnext_tiny_stage_2_block_\n",
            " k_7_layernorm (LayerNormal                                         7_depthwise_conv[0][0]']      \n",
            " ization)                                                                                         \n",
            "                                                                                                  \n",
            " convnext_tiny_stage_2_bloc  (None, None, None, 1536)     591360    ['convnext_tiny_stage_2_block_\n",
            " k_7_pointwise_conv_1 (Dens                                         7_layernorm[0][0]']           \n",
            " e)                                                                                               \n",
            "                                                                                                  \n",
            " convnext_tiny_stage_2_bloc  (None, None, None, 1536)     0         ['convnext_tiny_stage_2_block_\n",
            " k_7_gelu (Activation)                                              7_pointwise_conv_1[0][0]']    \n",
            "                                                                                                  \n",
            " convnext_tiny_stage_2_bloc  (None, None, None, 384)      590208    ['convnext_tiny_stage_2_block_\n",
            " k_7_pointwise_conv_2 (Dens                                         7_gelu[0][0]']                \n",
            " e)                                                                                               \n",
            "                                                                                                  \n",
            " convnext_tiny_stage_2_bloc  (None, None, None, 384)      384       ['convnext_tiny_stage_2_block_\n",
            " k_7_layer_scale (LayerScal                                         7_pointwise_conv_2[0][0]']    \n",
            " e)                                                                                               \n",
            "                                                                                                  \n",
            " convnext_tiny_stage_2_bloc  (None, None, None, 384)      0         ['convnext_tiny_stage_2_block_\n",
            " k_7_identity (Activation)                                          7_layer_scale[0][0]']         \n",
            "                                                                                                  \n",
            " tf.__operators__.add_31 (T  (None, None, None, 384)      0         ['tf.__operators__.add_30[0][0\n",
            " FOpLambda)                                                         ]',                           \n",
            "                                                                     'convnext_tiny_stage_2_block_\n",
            "                                                                    7_identity[0][0]']            \n",
            "                                                                                                  \n",
            " convnext_tiny_stage_2_bloc  (None, None, None, 384)      19200     ['tf.__operators__.add_31[0][0\n",
            " k_8_depthwise_conv (Conv2D                                         ]']                           \n",
            " )                                                                                                \n",
            "                                                                                                  \n",
            " convnext_tiny_stage_2_bloc  (None, None, None, 384)      768       ['convnext_tiny_stage_2_block_\n",
            " k_8_layernorm (LayerNormal                                         8_depthwise_conv[0][0]']      \n",
            " ization)                                                                                         \n",
            "                                                                                                  \n",
            " convnext_tiny_stage_2_bloc  (None, None, None, 1536)     591360    ['convnext_tiny_stage_2_block_\n",
            " k_8_pointwise_conv_1 (Dens                                         8_layernorm[0][0]']           \n",
            " e)                                                                                               \n",
            "                                                                                                  \n",
            " convnext_tiny_stage_2_bloc  (None, None, None, 1536)     0         ['convnext_tiny_stage_2_block_\n",
            " k_8_gelu (Activation)                                              8_pointwise_conv_1[0][0]']    \n",
            "                                                                                                  \n",
            " convnext_tiny_stage_2_bloc  (None, None, None, 384)      590208    ['convnext_tiny_stage_2_block_\n",
            " k_8_pointwise_conv_2 (Dens                                         8_gelu[0][0]']                \n",
            " e)                                                                                               \n",
            "                                                                                                  \n",
            " convnext_tiny_stage_2_bloc  (None, None, None, 384)      384       ['convnext_tiny_stage_2_block_\n",
            " k_8_layer_scale (LayerScal                                         8_pointwise_conv_2[0][0]']    \n",
            " e)                                                                                               \n",
            "                                                                                                  \n",
            " convnext_tiny_stage_2_bloc  (None, None, None, 384)      0         ['convnext_tiny_stage_2_block_\n",
            " k_8_identity (Activation)                                          8_layer_scale[0][0]']         \n",
            "                                                                                                  \n",
            " tf.__operators__.add_32 (T  (None, None, None, 384)      0         ['tf.__operators__.add_31[0][0\n",
            " FOpLambda)                                                         ]',                           \n",
            "                                                                     'convnext_tiny_stage_2_block_\n",
            "                                                                    8_identity[0][0]']            \n",
            "                                                                                                  \n",
            " convnext_tiny_downsampling  (None, None, None, 768)      1181184   ['tf.__operators__.add_32[0][0\n",
            " _block_2 (Sequential)                                              ]']                           \n",
            "                                                                                                  \n",
            " convnext_tiny_stage_3_bloc  (None, None, None, 768)      38400     ['convnext_tiny_downsampling_b\n",
            " k_0_depthwise_conv (Conv2D                                         lock_2[0][0]']                \n",
            " )                                                                                                \n",
            "                                                                                                  \n",
            " convnext_tiny_stage_3_bloc  (None, None, None, 768)      1536      ['convnext_tiny_stage_3_block_\n",
            " k_0_layernorm (LayerNormal                                         0_depthwise_conv[0][0]']      \n",
            " ization)                                                                                         \n",
            "                                                                                                  \n",
            " convnext_tiny_stage_3_bloc  (None, None, None, 3072)     2362368   ['convnext_tiny_stage_3_block_\n",
            " k_0_pointwise_conv_1 (Dens                                         0_layernorm[0][0]']           \n",
            " e)                                                                                               \n",
            "                                                                                                  \n",
            " convnext_tiny_stage_3_bloc  (None, None, None, 3072)     0         ['convnext_tiny_stage_3_block_\n",
            " k_0_gelu (Activation)                                              0_pointwise_conv_1[0][0]']    \n",
            "                                                                                                  \n",
            " convnext_tiny_stage_3_bloc  (None, None, None, 768)      2360064   ['convnext_tiny_stage_3_block_\n",
            " k_0_pointwise_conv_2 (Dens                                         0_gelu[0][0]']                \n",
            " e)                                                                                               \n",
            "                                                                                                  \n",
            " convnext_tiny_stage_3_bloc  (None, None, None, 768)      768       ['convnext_tiny_stage_3_block_\n",
            " k_0_layer_scale (LayerScal                                         0_pointwise_conv_2[0][0]']    \n",
            " e)                                                                                               \n",
            "                                                                                                  \n",
            " convnext_tiny_stage_3_bloc  (None, None, None, 768)      0         ['convnext_tiny_stage_3_block_\n",
            " k_0_identity (Activation)                                          0_layer_scale[0][0]']         \n",
            "                                                                                                  \n",
            " tf.__operators__.add_33 (T  (None, None, None, 768)      0         ['convnext_tiny_downsampling_b\n",
            " FOpLambda)                                                         lock_2[0][0]',                \n",
            "                                                                     'convnext_tiny_stage_3_block_\n",
            "                                                                    0_identity[0][0]']            \n",
            "                                                                                                  \n",
            " convnext_tiny_stage_3_bloc  (None, None, None, 768)      38400     ['tf.__operators__.add_33[0][0\n",
            " k_1_depthwise_conv (Conv2D                                         ]']                           \n",
            " )                                                                                                \n",
            "                                                                                                  \n",
            " convnext_tiny_stage_3_bloc  (None, None, None, 768)      1536      ['convnext_tiny_stage_3_block_\n",
            " k_1_layernorm (LayerNormal                                         1_depthwise_conv[0][0]']      \n",
            " ization)                                                                                         \n",
            "                                                                                                  \n",
            " convnext_tiny_stage_3_bloc  (None, None, None, 3072)     2362368   ['convnext_tiny_stage_3_block_\n",
            " k_1_pointwise_conv_1 (Dens                                         1_layernorm[0][0]']           \n",
            " e)                                                                                               \n",
            "                                                                                                  \n",
            " convnext_tiny_stage_3_bloc  (None, None, None, 3072)     0         ['convnext_tiny_stage_3_block_\n",
            " k_1_gelu (Activation)                                              1_pointwise_conv_1[0][0]']    \n",
            "                                                                                                  \n",
            " convnext_tiny_stage_3_bloc  (None, None, None, 768)      2360064   ['convnext_tiny_stage_3_block_\n",
            " k_1_pointwise_conv_2 (Dens                                         1_gelu[0][0]']                \n",
            " e)                                                                                               \n",
            "                                                                                                  \n",
            " convnext_tiny_stage_3_bloc  (None, None, None, 768)      768       ['convnext_tiny_stage_3_block_\n",
            " k_1_layer_scale (LayerScal                                         1_pointwise_conv_2[0][0]']    \n",
            " e)                                                                                               \n",
            "                                                                                                  \n",
            " convnext_tiny_stage_3_bloc  (None, None, None, 768)      0         ['convnext_tiny_stage_3_block_\n",
            " k_1_identity (Activation)                                          1_layer_scale[0][0]']         \n",
            "                                                                                                  \n",
            " tf.__operators__.add_34 (T  (None, None, None, 768)      0         ['tf.__operators__.add_33[0][0\n",
            " FOpLambda)                                                         ]',                           \n",
            "                                                                     'convnext_tiny_stage_3_block_\n",
            "                                                                    1_identity[0][0]']            \n",
            "                                                                                                  \n",
            " convnext_tiny_stage_3_bloc  (None, None, None, 768)      38400     ['tf.__operators__.add_34[0][0\n",
            " k_2_depthwise_conv (Conv2D                                         ]']                           \n",
            " )                                                                                                \n",
            "                                                                                                  \n",
            " convnext_tiny_stage_3_bloc  (None, None, None, 768)      1536      ['convnext_tiny_stage_3_block_\n",
            " k_2_layernorm (LayerNormal                                         2_depthwise_conv[0][0]']      \n",
            " ization)                                                                                         \n",
            "                                                                                                  \n",
            " convnext_tiny_stage_3_bloc  (None, None, None, 3072)     2362368   ['convnext_tiny_stage_3_block_\n",
            " k_2_pointwise_conv_1 (Dens                                         2_layernorm[0][0]']           \n",
            " e)                                                                                               \n",
            "                                                                                                  \n",
            " convnext_tiny_stage_3_bloc  (None, None, None, 3072)     0         ['convnext_tiny_stage_3_block_\n",
            " k_2_gelu (Activation)                                              2_pointwise_conv_1[0][0]']    \n",
            "                                                                                                  \n",
            " convnext_tiny_stage_3_bloc  (None, None, None, 768)      2360064   ['convnext_tiny_stage_3_block_\n",
            " k_2_pointwise_conv_2 (Dens                                         2_gelu[0][0]']                \n",
            " e)                                                                                               \n",
            "                                                                                                  \n",
            " convnext_tiny_stage_3_bloc  (None, None, None, 768)      768       ['convnext_tiny_stage_3_block_\n",
            " k_2_layer_scale (LayerScal                                         2_pointwise_conv_2[0][0]']    \n",
            " e)                                                                                               \n",
            "                                                                                                  \n",
            " convnext_tiny_stage_3_bloc  (None, None, None, 768)      0         ['convnext_tiny_stage_3_block_\n",
            " k_2_identity (Activation)                                          2_layer_scale[0][0]']         \n",
            "                                                                                                  \n",
            " tf.__operators__.add_35 (T  (None, None, None, 768)      0         ['tf.__operators__.add_34[0][0\n",
            " FOpLambda)                                                         ]',                           \n",
            "                                                                     'convnext_tiny_stage_3_block_\n",
            "                                                                    2_identity[0][0]']            \n",
            "                                                                                                  \n",
            " layer_normalization_1 (Lay  (None, None, None, 768)      1536      ['tf.__operators__.add_35[0][0\n",
            " erNormalization)                                                   ]']                           \n",
            "                                                                                                  \n",
            " global_average_pooling2d_1  (None, 768)                  0         ['layer_normalization_1[0][0]'\n",
            "  (GlobalAveragePooling2D)                                          ]                             \n",
            "                                                                                                  \n",
            " dropout_1 (Dropout)         (None, 768)                  0         ['global_average_pooling2d_1[0\n",
            "                                                                    ][0]']                        \n",
            "                                                                                                  \n",
            " dense_1 (Dense)             (None, 5)                    3845      ['dropout_1[0][0]']           \n",
            "                                                                                                  \n",
            "==================================================================================================\n",
            "Total params: 27823973 (106.14 MB)\n",
            "Trainable params: 3845 (15.02 KB)\n",
            "Non-trainable params: 27820128 (106.13 MB)\n",
            "__________________________________________________________________________________________________\n"
          ]
        }
      ],
      "source": [
        "# Load the saved best model\n",
        "from keras import layers\n",
        "\n",
        "class LayerScale(layers.Layer):\n",
        "    \"\"\"Layer scale module.\n",
        "\n",
        "    References:\n",
        "      - https://arxiv.org/abs/2103.17239\n",
        "\n",
        "    Args:\n",
        "      init_values (float): Initial value for layer scale. Should be within\n",
        "        [0, 1].\n",
        "      projection_dim (int): Projection dimensionality.\n",
        "\n",
        "    Returns:\n",
        "      Tensor multiplied to the scale.\n",
        "    \"\"\"\n",
        "\n",
        "    def __init__(self, init_values, projection_dim, **kwargs):\n",
        "        super().__init__(**kwargs)\n",
        "        self.init_values = init_values\n",
        "        self.projection_dim = projection_dim\n",
        "\n",
        "    def build(self, input_shape):\n",
        "        self.gamma = tf.Variable(\n",
        "            self.init_values * tf.ones((self.projection_dim,))\n",
        "        )\n",
        "\n",
        "    def call(self, x):\n",
        "        return x * self.gamma\n",
        "\n",
        "    def get_config(self):\n",
        "        config = super().get_config()\n",
        "        config.update(\n",
        "            {\n",
        "                \"init_values\": self.init_values,\n",
        "                \"projection_dim\": self.projection_dim,\n",
        "            }\n",
        "        )\n",
        "        return config\n",
        "\n",
        "model3_FT = keras.models.load_model(\"/content/drive/MyDrive/Abbinav's Portfolio/Transfer Learning CNN project/Models/Model3_TL.h5\", custom_objects={\"LayerScale\": LayerScale} )\n",
        "model3_FT.summary()"
      ]
    },
    {
      "cell_type": "markdown",
      "metadata": {
        "id": "DHcuJyEDWXNe"
      },
      "source": [
        "## Set all layers as trainable"
      ]
    },
    {
      "cell_type": "code",
      "execution_count": 8,
      "metadata": {
        "id": "AUG0MGaA-VC2"
      },
      "outputs": [],
      "source": [
        "total_layers = len(model3_FT.layers)\n",
        "freeze_layer = round(total_layers * 0.30)\n",
        "\n",
        "for layer in model3_FT.layers[:freeze_layer]:\n",
        "  layer.trainable = False\n",
        "\n",
        "for layer in model3_FT.layers[freeze_layer:]:\n",
        "  layer.trainable = True\n",
        "\n"
      ]
    },
    {
      "cell_type": "markdown",
      "metadata": {
        "id": "6TkYrlkFWi45"
      },
      "source": [
        "## Compile, fit and evaluate the model\n",
        "- Save the best weights while training"
      ]
    },
    {
      "cell_type": "code",
      "execution_count": 9,
      "metadata": {
        "colab": {
          "base_uri": "https://localhost:8080/"
        },
        "id": "42yzn8H0-ewm",
        "outputId": "0ef9ae33-6ca7-47e2-8b90-cc36ac67ab8e"
      },
      "outputs": [
        {
          "output_type": "stream",
          "name": "stdout",
          "text": [
            "Epoch 1/10\n",
            "46/46 [==============================] - 65s 635ms/step - loss: 0.1938 - accuracy: 0.9368 - val_loss: 0.0034 - val_accuracy: 1.0000\n",
            "Epoch 2/10\n",
            "46/46 [==============================] - 18s 398ms/step - loss: 3.5460e-04 - accuracy: 1.0000 - val_loss: 0.0396 - val_accuracy: 0.9877\n",
            "Epoch 3/10\n",
            "46/46 [==============================] - 19s 409ms/step - loss: 5.1281e-05 - accuracy: 1.0000 - val_loss: 0.0299 - val_accuracy: 0.9877\n",
            "Epoch 4/10\n",
            "46/46 [==============================] - 19s 410ms/step - loss: 3.5089e-05 - accuracy: 1.0000 - val_loss: 0.0252 - val_accuracy: 0.9877\n",
            "Epoch 5/10\n",
            "46/46 [==============================] - 19s 417ms/step - loss: 2.4327e-05 - accuracy: 1.0000 - val_loss: 0.0223 - val_accuracy: 0.9877\n",
            "Epoch 6/10\n",
            "46/46 [==============================] - 20s 429ms/step - loss: 2.1125e-05 - accuracy: 1.0000 - val_loss: 0.0203 - val_accuracy: 0.9877\n",
            "Epoch 7/10\n",
            "46/46 [==============================] - 20s 429ms/step - loss: 1.5282e-05 - accuracy: 1.0000 - val_loss: 0.0189 - val_accuracy: 0.9877\n",
            "Epoch 8/10\n",
            "46/46 [==============================] - 19s 415ms/step - loss: 1.4165e-05 - accuracy: 1.0000 - val_loss: 0.0174 - val_accuracy: 0.9877\n",
            "Epoch 9/10\n",
            "46/46 [==============================] - 19s 417ms/step - loss: 1.2225e-05 - accuracy: 1.0000 - val_loss: 0.0163 - val_accuracy: 0.9877\n",
            "Epoch 10/10\n",
            "46/46 [==============================] - 19s 421ms/step - loss: 9.9832e-06 - accuracy: 1.0000 - val_loss: 0.0155 - val_accuracy: 0.9877\n"
          ]
        }
      ],
      "source": [
        "model3_FT.compile(loss='sparse_categorical_crossentropy',\n",
        "                 optimizer='adam',\n",
        "                 metrics=['accuracy'])\n",
        "\n",
        "callbacks3_FT = [\n",
        "             keras.callbacks.ModelCheckpoint(\"bestFT3.h5\",\n",
        "                                             monitor='val_accuracy',\n",
        "                                             save_weights_only=True,\n",
        "                                             save_best_only=True)\n",
        "]\n",
        "\n",
        "history3_FT = model3_FT.fit(x = X_train_std, y = y_train, epochs=10,\n",
        "                                      validation_split=0.1, batch_size=16, callbacks=callbacks3_FT)"
      ]
    },
    {
      "cell_type": "code",
      "execution_count": 10,
      "metadata": {
        "colab": {
          "base_uri": "https://localhost:8080/",
          "height": 449
        },
        "id": "rPQRse4U_bHY",
        "outputId": "0278b95f-d2c7-434b-bf82-a4f490f989a9"
      },
      "outputs": [
        {
          "output_type": "display_data",
          "data": {
            "text/plain": [
              "<Figure size 640x480 with 1 Axes>"
            ],
            "image/png": "[encoded data removed]"
          },
          "metadata": {}
        }
      ],
      "source": [
        "keys = ['accuracy', 'val_accuracy']\n",
        "progress = {k:v for k,v in history3_FT.history.items() if k in keys}\n",
        "\n",
        "import pandas as pd\n",
        "pd.DataFrame(progress).plot()\n",
        "\n",
        "plt.xlabel(\"epochs\")\n",
        "plt.ylabel(\"accuracy\")\n",
        "\n",
        "plt.grid(True)\n",
        "plt.show()"
      ]
    },
    {
      "cell_type": "code",
      "execution_count": 11,
      "metadata": {
        "colab": {
          "base_uri": "https://localhost:8080/"
        },
        "id": "gKrtw4r3-yJL",
        "outputId": "181e747f-6cb6-4337-a5cb-fa71ffde786b"
      },
      "outputs": [
        {
          "output_type": "stream",
          "name": "stdout",
          "text": [
            "9/9 [==============================] - 10s 734ms/step - loss: 9.0725e-06 - accuracy: 1.0000\n",
            "Test-loss: 0.000009, Test-accuracy: 1.000000\n"
          ]
        }
      ],
      "source": [
        "testLoss_FT, testAccuracy_FT = model3_FT.evaluate(x = X_test_std, y = y_test)\n",
        "print(\"Test-loss: %f, Test-accuracy: %f\" % (testLoss_FT, testAccuracy_FT))"
      ]
    },
    {
      "cell_type": "code",
      "execution_count": 12,
      "metadata": {
        "colab": {
          "base_uri": "https://localhost:8080/"
        },
        "id": "eA3S4vAX-6tk",
        "outputId": "4826ee95-1f3a-4ce9-b622-2222c45e9b9a"
      },
      "outputs": [
        {
          "output_type": "stream",
          "name": "stdout",
          "text": [
            "9/9 [==============================] - 3s 378ms/step - loss: 0.0047 - accuracy: 1.0000\n",
            "Test-loss: 0.004737, Test-accuracy: 1.000000\n"
          ]
        }
      ],
      "source": [
        "# Plugging best weights to the model to evaluate\n",
        "\n",
        "model3_FT.load_weights(\"bestFT3.h5\")\n",
        "\n",
        "testLoss_FT, testAccuracy_FT = model3_FT.evaluate(x = X_test_std, y = y_test)\n",
        "\n",
        "print(\"Test-loss: %f, Test-accuracy: %f\" % (testLoss_FT, testAccuracy_FT))"
      ]
    },
    {
      "cell_type": "markdown",
      "metadata": {
        "id": "7RmHF4arXEb7"
      },
      "source": [
        "## Prediction of testing sample and inferences"
      ]
    },
    {
      "cell_type": "code",
      "execution_count": 13,
      "metadata": {
        "colab": {
          "base_uri": "https://localhost:8080/"
        },
        "id": "c-AxYthYBwGF",
        "outputId": "3f313aed-b7ca-4270-cc63-36d5360a5e6c"
      },
      "outputs": [
        {
          "output_type": "stream",
          "name": "stdout",
          "text": [
            "9/9 [==============================] - 5s 368ms/step\n",
            "[4 3 1 3 0 4 1 4 1 4 0 4 1 1 4 4 0 2 2 3 3 3 1 2 0 0 4 3 1 4 3 2 0 1 1 1 3\n",
            " 3 1 0 0 0 1 0 0 3 1 1 4 3 0 2 3 2 2 3 4 2 1 0 3 3 0 2 0 0 3 2 4 3 3 2 4 2\n",
            " 3 3 1 2 4 4 2 3 0 1 4 1 1 2 2 2 2 0 0 2 4 1 3 2 1 0 2 3 3 3 4 2 4 4 1 3 0\n",
            " 2 4 3 1 0 3 2 1 0 1 3 1 1 1 0 2 2 1 0 4 2 2 2 1 1 1 2 0 2 1 1 1 4 3 0 0 2\n",
            " 0 2 3 0 0 1 1 4 2 0 2 3 4 3 2 3 0 0 1 0 1 1 2 4 2 1 4 3 2 3 4 0 0 3 2 3 4\n",
            " 0 3 2 3 4 3 0 3 3 0 2 0 3 3 0 3 2 1 1 3 0 2 4 0 0 4 0 3 4 1 2 2 3 1 2 3 4\n",
            " 2 0 0 2 0 4 4 4 3 2 1 2 4 3 4 1 1 4 3 3 0 0 2 0 1 1 1 4 1 3 1 4 2 3 0 2 4\n",
            " 2 1 0 2 4 2 1 4 0 1 0]\n"
          ]
        }
      ],
      "source": [
        "y_proba = model3_FT.predict(X_test_std)\n",
        "y_predict = np.argmax(y_proba, axis=-1)\n",
        "print(y_predict)"
      ]
    },
    {
      "cell_type": "code",
      "execution_count": 14,
      "metadata": {
        "colab": {
          "base_uri": "https://localhost:8080/",
          "height": 607
        },
        "id": "CILfxVNwBzIF",
        "outputId": "2fdea550-700a-45f4-ad83-c4c6658f9202"
      },
      "outputs": [
        {
          "output_type": "display_data",
          "data": {
            "text/plain": [
              "<Figure size 600x600 with 1 Axes>"
            ],
            "image/png": "[encoded data removed]"
          },
          "metadata": {}
        }
      ],
      "source": [
        "# Confusion matrix of testing data\n",
        "\n",
        "from sklearn.metrics import confusion_matrix\n",
        "\n",
        "cm = confusion_matrix(y_true = y_test, y_pred = y_predict)\n",
        "\n",
        "fig, ax = plt.subplots(figsize=(6, 6))\n",
        "ax.matshow(cm, cmap=plt.cm.Blues, alpha=0.3)\n",
        "\n",
        "for i in range(cm.shape[0]):\n",
        "    for j in range(cm.shape[1]):\n",
        "        ax.text(x=j, y=i, s=cm[i, j], va='center', ha='center')\n",
        "\n",
        "ax.title.set_text('CNN\\n')\n",
        "plt.xlabel('Predicted label')\n",
        "plt.ylabel('True label')\n",
        "\n",
        "plt.tight_layout()\n",
        "plt.show()"
      ]
    },
    {
      "cell_type": "code",
      "execution_count": 15,
      "metadata": {
        "colab": {
          "base_uri": "https://localhost:8080/"
        },
        "id": "kvVGIz2XB1kf",
        "outputId": "bb3fc08e-944d-477d-88ec-1f740b45de9c"
      },
      "outputs": [
        {
          "output_type": "stream",
          "name": "stdout",
          "text": [
            "Precision:  1.0\n",
            "Recall:  1.0\n",
            "F1-score:  1.0\n"
          ]
        }
      ],
      "source": [
        "# Calculating the precision, recall and f1 score\n",
        "\n",
        "from sklearn.metrics import precision_score, recall_score, f1_score\n",
        "\n",
        "pScore = precision_score(y_true= y_test, y_pred = y_predict, average = 'weighted')\n",
        "print(\"Precision: \", pScore)\n",
        "\n",
        "rScore = recall_score(y_true= y_test, y_pred = y_predict, average = 'weighted')\n",
        "print(\"Recall: \", rScore)\n",
        "\n",
        "fScore = f1_score(y_true= y_test, y_pred = y_predict, average = 'weighted')\n",
        "print(\"F1-score: \", fScore)"
      ]
    },
    {
      "cell_type": "markdown",
      "metadata": {
        "id": "i9-d5ithW7XO"
      },
      "source": [
        "## Save the final Fine-Tuned model"
      ]
    },
    {
      "cell_type": "code",
      "execution_count": 16,
      "metadata": {
        "id": "jRglm0au_OyL",
        "colab": {
          "base_uri": "https://localhost:8080/"
        },
        "outputId": "9992f6e6-4548-410e-9d1b-99e9dd0a0d74"
      },
      "outputs": [
        {
          "output_type": "stream",
          "name": "stderr",
          "text": [
            "/usr/local/lib/python3.10/dist-packages/keras/src/engine/training.py:3103: UserWarning: You are saving your model as an HDF5 file via `model.save()`. This file format is considered legacy. We recommend using instead the native Keras format, e.g. `model.save('my_model.keras')`.\n",
            "  saving_api.save_model(\n"
          ]
        }
      ],
      "source": [
        "# Saves the best model obtained\n",
        "model3_FT.save(\"/content/drive/MyDrive/Abbinav's Portfolio/Transfer Learning CNN project/Models/Model3_FT.h5\")"
      ]
    }
  ],
  "metadata": {
    "accelerator": "GPU",
    "colab": {
      "provenance": []
    },
    "kernelspec": {
      "display_name": "Python 3",
      "name": "python3"
    },
    "language_info": {
      "name": "python"
    }
  },
  "nbformat": 4,
  "nbformat_minor": 0
}
