{
  "cells": [
    {
      "cell_type": "markdown",
      "source": [
        "# Model 3 Transfer Learning\n",
        "- ConvNeXtTiny"
      ],
      "metadata": {
        "id": "PLiVwXDQQ0LM"
      }
    },
    {
      "cell_type": "markdown",
      "source": [
        "## Import necessary libraries"
      ],
      "metadata": {
        "id": "wASvzvMLT31F"
      }
    },
    {
      "cell_type": "code",
      "execution_count": 1,
      "metadata": {
        "colab": {
          "base_uri": "https://localhost:8080/"
        },
        "id": "hzJXPzbJEKM6",
        "outputId": "c0a286c3-6ec9-49e6-af7c-1408c802e4d6"
      },
      "outputs": [
        {
          "output_type": "stream",
          "name": "stdout",
          "text": [
            "2.15.0\n"
          ]
        }
      ],
      "source": [
        "import tensorflow as tf\n",
        "print(tf.__version__)\n",
        "\n",
        "from tensorflow import keras\n",
        "tf.random.set_seed(42)\n",
        "\n",
        "import numpy as np\n",
        "np.random.seed(42)\n",
        "\n",
        "import matplotlib.pyplot as plt\n",
        "%matplotlib inline\n",
        "\n",
        "import glob\n",
        "import PIL\n",
        "from PIL import Image"
      ]
    },
    {
      "cell_type": "code",
      "source": [
        "from google.colab import drive\n",
        "drive.mount('/content/drive/')"
      ],
      "metadata": {
        "colab": {
          "base_uri": "https://localhost:8080/"
        },
        "id": "BP-9UGuEFGne",
        "outputId": "d81fc51c-3987-4fd8-ea4b-17d2d6312b1a"
      },
      "execution_count": 2,
      "outputs": [
        {
          "output_type": "stream",
          "name": "stdout",
          "text": [
            "Mounted at /content/drive/\n"
          ]
        }
      ]
    },
    {
      "cell_type": "markdown",
      "source": [
        "## Load all .jpeg and .jpg files"
      ],
      "metadata": {
        "id": "V_8om9e3T_QS"
      }
    },
    {
      "cell_type": "code",
      "execution_count": 4,
      "metadata": {
        "colab": {
          "base_uri": "https://localhost:8080/"
        },
        "id": "QqUnKLH6EKM8",
        "outputId": "7adce406-7986-4c3c-fda2-a593c0382a67"
      },
      "outputs": [
        {
          "output_type": "stream",
          "name": "stdout",
          "text": [
            "/content/drive/MyDrive/Abbinav's Portfolio/Transfer Learning CNN project/Ornamental_Plants/Damask Rose/Damask Rose (123).jpeg\n",
            "/content/drive/MyDrive/Abbinav's Portfolio/Transfer Learning CNN project/Ornamental_Plants/Damask Rose/Damask Rose (100).jpeg\n",
            "/content/drive/MyDrive/Abbinav's Portfolio/Transfer Learning CNN project/Ornamental_Plants/Damask Rose/Damask Rose (115).jpeg\n",
            "/content/drive/MyDrive/Abbinav's Portfolio/Transfer Learning CNN project/Ornamental_Plants/Damask Rose/Damask Rose (113).jpeg\n",
            "/content/drive/MyDrive/Abbinav's Portfolio/Transfer Learning CNN project/Ornamental_Plants/Damask Rose/Damask Rose (107).jpeg\n",
            "The total number of img files :  1079\n",
            "The total number of damask rose images:  225\n",
            "The total number of rain lily images:  224\n",
            "The total number of echeveria flower images:  225\n",
            "The total number of mirabilis jalapa images:  225\n",
            "The total number of zinnia elegans images:  180\n"
          ]
        }
      ],
      "source": [
        "damask_rose = glob.glob(\"/content/drive/MyDrive/Abbinav's Portfolio/Transfer Learning CNN project/Ornamental_Plants/Damask Rose/*.jpeg\")\n",
        "rain_lily = glob.glob(\"/content/drive/MyDrive/Abbinav's Portfolio/Transfer Learning CNN project/Ornamental_Plants/Rain Lily/*.jpeg\")\n",
        "echeveria_flower = glob.glob(\"/content/drive/MyDrive/Abbinav's Portfolio/Transfer Learning CNN project/Ornamental_Plants/Echeveria Flower/*.jpg\")\n",
        "mirabilis_jalapa = glob.glob(\"/content/drive/MyDrive/Abbinav's Portfolio/Transfer Learning CNN project/Ornamental_Plants/Mirabilis Jalapa/*.jpg\")\n",
        "zinnia_elegans = glob.glob(\"/content/drive/MyDrive/Abbinav's Portfolio/Transfer Learning CNN project/Ornamental_Plants/Zinnia Elegans/*.jpg\")\n",
        "\n",
        "total_drose = len(damask_rose)\n",
        "total_rlily = len(rain_lily)\n",
        "total_eflower = len(echeveria_flower)\n",
        "total_mjalapa = len(mirabilis_jalapa)\n",
        "total_zelegans = len(zinnia_elegans)\n",
        "\n",
        "# Use 45% of images in each file\n",
        "ImgFiles = damask_rose[:round(0.45*total_drose)] + rain_lily[:round(0.45*total_rlily)] + echeveria_flower[:round(0.45*total_eflower)] + mirabilis_jalapa[:round(0.45*total_mjalapa)] + zinnia_elegans[:round(0.45*total_zelegans)]\n",
        "\n",
        "for items in ImgFiles[:5]:\n",
        "    print(items)\n",
        "\n",
        "print(\"The total number of img files : \", len(ImgFiles))\n",
        "print(\"The total number of damask rose images: \", round(0.45*total_drose))\n",
        "print(\"The total number of rain lily images: \", round(0.45*total_rlily))\n",
        "print(\"The total number of echeveria flower images: \", round(0.45*total_eflower))\n",
        "print(\"The total number of mirabilis jalapa images: \", round(0.45*total_mjalapa))\n",
        "print(\"The total number of zinnia elegans images: \", round(0.45*total_zelegans))"
      ]
    },
    {
      "cell_type": "markdown",
      "source": [
        "## Prepare the dataset and populate X and y"
      ],
      "metadata": {
        "id": "OMsTN8GZUz8G"
      }
    },
    {
      "cell_type": "code",
      "execution_count": 5,
      "metadata": {
        "id": "QaoJcrPiEKM9"
      },
      "outputs": [],
      "source": [
        "X = []\n",
        "y = []\n",
        "\n",
        "for fName in ImgFiles:\n",
        "\n",
        "  X_i = Image.open(fName)\n",
        "  X_i = X_i.resize((299,299))\n",
        "  X_i = np.array(X_i) / 255.0\n",
        "\n",
        "  X.append(X_i)\n",
        "\n",
        "  label = fName.split('/')\n",
        "  y_i = label[-2]\n",
        "\n",
        "  y.append(y_i)"
      ]
    },
    {
      "cell_type": "code",
      "source": [
        "print(set(y)) # classes\n",
        "\n",
        "print(len(X)) # Number of samples\n",
        "print(len(y))"
      ],
      "metadata": {
        "id": "kQ_F6QaxyNxx",
        "colab": {
          "base_uri": "https://localhost:8080/"
        },
        "outputId": "ea6b3155-100f-45c0-9aaf-0b8a80d4d6aa"
      },
      "execution_count": 6,
      "outputs": [
        {
          "output_type": "stream",
          "name": "stdout",
          "text": [
            "{'Damask Rose', 'Zinnia Elegans', 'Rain Lily', 'Echeveria Flower', 'Mirabilis Jalapa'}\n",
            "1079\n",
            "1079\n"
          ]
        }
      ]
    },
    {
      "cell_type": "code",
      "execution_count": 7,
      "metadata": {
        "id": "XTg3gYZ1EKM-",
        "colab": {
          "base_uri": "https://localhost:8080/"
        },
        "outputId": "40fd858e-3b6e-4ccc-efad-bca4bce38aa6"
      },
      "outputs": [
        {
          "output_type": "stream",
          "name": "stdout",
          "text": [
            "{0, 1, 2, 3, 4}\n",
            "['Damask Rose' 'Echeveria Flower' 'Mirabilis Jalapa' 'Rain Lily'\n",
            " 'Zinnia Elegans']\n"
          ]
        }
      ],
      "source": [
        "# Transform y (classes) into integer values using label encoder\n",
        "\n",
        "from sklearn.preprocessing import LabelEncoder\n",
        "\n",
        "lEncoder = LabelEncoder()\n",
        "y = lEncoder.fit_transform(y)\n",
        "\n",
        "print(set(y))\n",
        "print(lEncoder.classes_)"
      ]
    },
    {
      "cell_type": "code",
      "source": [
        "# Convert X and y to numpy arrays\n",
        "\n",
        "X = np.array(X)\n",
        "y = np.array(y)\n",
        "\n",
        "print(X.shape)\n",
        "print(y.shape)"
      ],
      "metadata": {
        "id": "Vz1rRsYax1Ua",
        "colab": {
          "base_uri": "https://localhost:8080/"
        },
        "outputId": "72996210-cef1-4e37-b0a1-a813e8d5e23d"
      },
      "execution_count": 8,
      "outputs": [
        {
          "output_type": "stream",
          "name": "stdout",
          "text": [
            "(1079, 299, 299, 3)\n",
            "(1079,)\n"
          ]
        }
      ]
    },
    {
      "cell_type": "markdown",
      "source": [
        "## Train - Test split (75-25)"
      ],
      "metadata": {
        "id": "y_Aa9JmS0CII"
      }
    },
    {
      "cell_type": "code",
      "execution_count": 9,
      "metadata": {
        "id": "QJorycjNEKM-",
        "colab": {
          "base_uri": "https://localhost:8080/"
        },
        "outputId": "879d5bf1-492f-4247-a9b4-e5607be993ff"
      },
      "outputs": [
        {
          "output_type": "stream",
          "name": "stdout",
          "text": [
            "X_train_shape: (809, 299, 299, 3)\n",
            "X_test_shape: (270, 299, 299, 3)\n"
          ]
        }
      ],
      "source": [
        "from sklearn.model_selection import train_test_split\n",
        "\n",
        "X_train, X_test, y_train, y_test = train_test_split(X, y,\n",
        "                                                    test_size=0.25,\n",
        "                                                    stratify = y,\n",
        "                                                    random_state=42)\n",
        "\n",
        "print(\"X_train_shape: {}\".format(X_train.shape))\n",
        "print(\"X_test_shape: {}\".format(X_test.shape))"
      ]
    },
    {
      "cell_type": "code",
      "execution_count": 10,
      "metadata": {
        "id": "zCL0XKqHEKM-"
      },
      "outputs": [],
      "source": [
        "# Standardizing X_train and X_test\n",
        "\n",
        "mu = X_train.mean()\n",
        "std = X_train.std()\n",
        "\n",
        "X_train_std = (X_train-mu)/std\n",
        "X_test_std = (X_test-mu)/std"
      ]
    },
    {
      "cell_type": "markdown",
      "source": [
        "### Total Number of images in the dataset = 1079\n",
        "\n",
        "### Number of images present per class:\n",
        "- Damask rose:  225\n",
        "- Rain lily:  224\n",
        "- Echeveria flower:  225\n",
        "- Mirabilis jalapa:  225\n",
        "- Zinnia elegans:  180\n",
        "\n",
        "### Total number of images for Training and Testing:\n",
        "- Training : 809\n",
        "- Testing : 270"
      ],
      "metadata": {
        "id": "TTm8KMqde6n9"
      }
    },
    {
      "cell_type": "markdown",
      "source": [
        "## Retrieve ConvNeXtTiny model and preparing the CNN model architecture"
      ],
      "metadata": {
        "id": "AlwRuusZzKYL"
      }
    },
    {
      "cell_type": "code",
      "execution_count": 12,
      "metadata": {
        "id": "VImjiCK9EKM_"
      },
      "outputs": [],
      "source": [
        "# Using InceptionResNetV2 model without classifier as base model\n",
        "base_model = keras.applications.ConvNeXtTiny(\n",
        "                model_name=\"convnext_tiny\",\n",
        "                include_top=False,\n",
        "                weights=\"imagenet\"\n",
        ")\n",
        "\n",
        "# Freeze the weights - will not be updated during backpropagation\n",
        "for layer in base_model.layers:\n",
        "  layer.trainable = False\n",
        "\n",
        "# Adding classifier\n",
        "global_pool = keras.layers.GlobalAveragePooling2D()(base_model.output)\n",
        "\n",
        "x = keras.layers.Dropout(0.15)(global_pool)\n",
        "\n",
        "output_ = keras.layers.Dense(units=5, activation='softmax')(x)\n",
        "\n",
        "model3_TL = keras.models.Model(inputs=[base_model.input], outputs=[output_])"
      ]
    },
    {
      "cell_type": "markdown",
      "source": [
        "## Compile, fit and evaluate the model.\n",
        "- Save the best weights"
      ],
      "metadata": {
        "id": "zBAZA4XFBatm"
      }
    },
    {
      "cell_type": "code",
      "execution_count": 13,
      "metadata": {
        "id": "T97F4vJyEKM_",
        "colab": {
          "base_uri": "https://localhost:8080/"
        },
        "outputId": "43d4f91a-e5aa-47c7-ea5f-8cf35a4c2b92"
      },
      "outputs": [
        {
          "output_type": "stream",
          "name": "stdout",
          "text": [
            "Epoch 1/10\n",
            "46/46 [==============================] - 37s 462ms/step - loss: 1.3088 - accuracy: 0.6099 - val_loss: 0.9394 - val_accuracy: 1.0000\n",
            "Epoch 2/10\n",
            "46/46 [==============================] - 10s 224ms/step - loss: 0.7761 - accuracy: 0.9492 - val_loss: 0.5757 - val_accuracy: 1.0000\n",
            "Epoch 3/10\n",
            "46/46 [==============================] - 10s 225ms/step - loss: 0.5031 - accuracy: 0.9794 - val_loss: 0.3859 - val_accuracy: 1.0000\n",
            "Epoch 4/10\n",
            "46/46 [==============================] - 11s 232ms/step - loss: 0.3603 - accuracy: 0.9931 - val_loss: 0.2801 - val_accuracy: 1.0000\n",
            "Epoch 5/10\n",
            "46/46 [==============================] - 10s 225ms/step - loss: 0.2723 - accuracy: 0.9931 - val_loss: 0.2171 - val_accuracy: 1.0000\n",
            "Epoch 6/10\n",
            "46/46 [==============================] - 11s 230ms/step - loss: 0.2153 - accuracy: 0.9945 - val_loss: 0.1710 - val_accuracy: 1.0000\n",
            "Epoch 7/10\n",
            "46/46 [==============================] - 11s 230ms/step - loss: 0.1736 - accuracy: 0.9973 - val_loss: 0.1418 - val_accuracy: 1.0000\n",
            "Epoch 8/10\n",
            "46/46 [==============================] - 11s 232ms/step - loss: 0.1483 - accuracy: 0.9959 - val_loss: 0.1174 - val_accuracy: 1.0000\n",
            "Epoch 9/10\n",
            "46/46 [==============================] - 11s 234ms/step - loss: 0.1249 - accuracy: 0.9973 - val_loss: 0.1017 - val_accuracy: 1.0000\n",
            "Epoch 10/10\n",
            "46/46 [==============================] - 11s 244ms/step - loss: 0.1092 - accuracy: 0.9986 - val_loss: 0.0874 - val_accuracy: 1.0000\n"
          ]
        }
      ],
      "source": [
        "model3_TL.compile(loss='sparse_categorical_crossentropy',\n",
        "                 optimizer='adam',\n",
        "                 metrics=['accuracy'])\n",
        "\n",
        "callbacks3_TL = [\n",
        "             keras.callbacks.ModelCheckpoint(\"bestTL3.h5\",\n",
        "                                             monitor='val_accuracy',\n",
        "                                             save_weights_only=True,\n",
        "                                             save_best_only=True)]\n",
        "\n",
        "history3_TL = model3_TL.fit(x = X_train_std, y = y_train, epochs=10,\n",
        "                          validation_split=0.1, batch_size=16, callbacks=callbacks3_TL)"
      ]
    },
    {
      "cell_type": "code",
      "source": [
        "keys = ['accuracy', 'val_accuracy']\n",
        "progress = {k:v for k,v in history3_TL.history.items() if k in keys}\n",
        "\n",
        "import pandas as pd\n",
        "pd.DataFrame(progress).plot()\n",
        "\n",
        "plt.xlabel(\"epochs\")\n",
        "plt.ylabel(\"accuracy\")\n",
        "\n",
        "plt.grid(True)\n",
        "plt.show()"
      ],
      "metadata": {
        "id": "ZeJDq0IRJKje",
        "colab": {
          "base_uri": "https://localhost:8080/",
          "height": 449
        },
        "outputId": "63aa79d3-a2e5-4bb1-a605-1120cb1dcda1"
      },
      "execution_count": 14,
      "outputs": [
        {
          "output_type": "display_data",
          "data": {
            "text/plain": [
              "<Figure size 640x480 with 1 Axes>"
            ],
            "image/png": "[encoded data removed]"
          },
          "metadata": {}
        }
      ]
    },
    {
      "cell_type": "code",
      "source": [
        "testLoss_TL, testAccuracy_TL = model3_TL.evaluate(x = X_test_std, y = y_test)\n",
        "print(\"Test-loss: %f, Test-accuracy: %f\" % (testLoss_TL, testAccuracy_TL))"
      ],
      "metadata": {
        "id": "5sNNfAN9JSyK",
        "colab": {
          "base_uri": "https://localhost:8080/"
        },
        "outputId": "c76bf802-8c7a-432e-8e31-c953680d69fa"
      },
      "execution_count": 15,
      "outputs": [
        {
          "output_type": "stream",
          "name": "stdout",
          "text": [
            "9/9 [==============================] - 9s 691ms/step - loss: 0.1023 - accuracy: 1.0000\n",
            "Test-loss: 0.102275, Test-accuracy: 1.000000\n"
          ]
        }
      ]
    },
    {
      "cell_type": "code",
      "source": [
        "# Plugging best weights to the model to evaluate\n",
        "\n",
        "model3_TL.load_weights(\"bestTL3.h5\")\n",
        "\n",
        "testLoss_TL, testAccuracy_TL = model3_TL.evaluate(x = X_test_std, y = y_test)\n",
        "\n",
        "print(\"Test-loss: %f, Test-accuracy: %f\" % (testLoss_TL, testAccuracy_TL))"
      ],
      "metadata": {
        "id": "tQ0FVJAkJWCQ",
        "colab": {
          "base_uri": "https://localhost:8080/"
        },
        "outputId": "fe8b6e84-226d-47be-cd81-1d5b88567447"
      },
      "execution_count": 16,
      "outputs": [
        {
          "output_type": "stream",
          "name": "stdout",
          "text": [
            "9/9 [==============================] - 3s 358ms/step - loss: 0.9465 - accuracy: 0.9926\n",
            "Test-loss: 0.946503, Test-accuracy: 0.992593\n"
          ]
        }
      ]
    },
    {
      "cell_type": "markdown",
      "source": [
        "## Prediction of testing sample and inferences"
      ],
      "metadata": {
        "id": "V4vn20BuZgFF"
      }
    },
    {
      "cell_type": "code",
      "source": [
        "y_proba = model3_TL.predict(X_test_std)\n",
        "y_predict = np.argmax(y_proba, axis=-1)\n",
        "print(y_predict)"
      ],
      "metadata": {
        "id": "lndx7BhbKI85",
        "colab": {
          "base_uri": "https://localhost:8080/"
        },
        "outputId": "e12afd14-b44b-4aa9-96d2-603ae967ed63"
      },
      "execution_count": 17,
      "outputs": [
        {
          "output_type": "stream",
          "name": "stdout",
          "text": [
            "9/9 [==============================] - 7s 355ms/step\n",
            "[4 3 1 3 0 4 1 4 1 4 0 4 1 1 4 4 0 2 2 3 3 3 1 2 0 0 4 3 1 4 3 2 0 1 1 1 3\n",
            " 3 1 0 0 0 1 0 0 3 1 1 4 3 0 2 3 0 2 3 4 0 1 0 3 3 0 2 0 0 3 2 4 3 3 2 4 2\n",
            " 3 3 1 2 4 4 2 3 0 1 4 1 1 2 2 2 2 0 0 2 4 1 3 2 1 0 2 3 3 3 4 2 4 4 1 3 0\n",
            " 2 4 3 1 0 3 2 1 0 1 3 1 1 1 0 2 2 1 0 4 2 2 2 1 1 1 2 0 2 1 1 1 4 3 0 0 2\n",
            " 0 2 3 0 0 1 1 4 2 0 2 3 4 3 2 3 0 0 1 0 1 1 2 4 2 1 4 3 2 3 4 0 0 3 2 3 4\n",
            " 0 3 2 3 4 3 0 3 3 0 2 0 3 3 0 3 2 1 1 3 0 2 4 0 0 4 0 3 4 1 2 2 3 1 2 3 4\n",
            " 2 0 0 2 0 4 4 4 3 2 1 2 4 3 4 1 1 4 3 3 0 0 2 0 1 1 1 4 1 3 1 4 2 3 0 2 4\n",
            " 2 1 0 2 4 2 1 4 0 1 0]\n"
          ]
        }
      ]
    },
    {
      "cell_type": "code",
      "source": [
        "# Confusion matrix of testing data\n",
        "\n",
        "from sklearn.metrics import confusion_matrix\n",
        "\n",
        "cm = confusion_matrix(y_true = y_test, y_pred = y_predict)\n",
        "\n",
        "fig, ax = plt.subplots(figsize=(6, 6))\n",
        "ax.matshow(cm, cmap=plt.cm.Blues, alpha=0.3)\n",
        "\n",
        "for i in range(cm.shape[0]):\n",
        "    for j in range(cm.shape[1]):\n",
        "        ax.text(x=j, y=i, s=cm[i, j], va='center', ha='center')\n",
        "\n",
        "ax.title.set_text('CNN\\n')\n",
        "plt.xlabel('Predicted label')\n",
        "plt.ylabel('True label')\n",
        "\n",
        "plt.tight_layout()\n",
        "plt.show()\n",
        "\n",
        "print(set(y))\n",
        "print(lEncoder.classes_)"
      ],
      "metadata": {
        "id": "ywGr4om4KRS_",
        "colab": {
          "base_uri": "https://localhost:8080/",
          "height": 659
        },
        "outputId": "fa36b40b-0b0f-4366-cb16-7ff96f71121b"
      },
      "execution_count": 18,
      "outputs": [
        {
          "output_type": "display_data",
          "data": {
            "text/plain": [
              "<Figure size 600x600 with 1 Axes>"
            ],
            "image/png": "[encoded data removed]"
          },
          "metadata": {}
        },
        {
          "output_type": "stream",
          "name": "stdout",
          "text": [
            "{0, 1, 2, 3, 4}\n",
            "['Damask Rose' 'Echeveria Flower' 'Mirabilis Jalapa' 'Rain Lily'\n",
            " 'Zinnia Elegans']\n"
          ]
        }
      ]
    },
    {
      "cell_type": "code",
      "source": [
        "# Calculating the precision, recall and f1 score\n",
        "\n",
        "from sklearn.metrics import precision_score, recall_score, f1_score\n",
        "\n",
        "pScore = precision_score(y_true= y_test, y_pred = y_predict, average = 'weighted')\n",
        "print(\"Precision: \", pScore)\n",
        "\n",
        "rScore = recall_score(y_true= y_test, y_pred = y_predict, average = 'weighted')\n",
        "print(\"Recall: \", rScore)\n",
        "\n",
        "fScore = f1_score(y_true= y_test, y_pred = y_predict, average = 'weighted')\n",
        "print(\"F1-score: \", fScore)"
      ],
      "metadata": {
        "id": "q9wuY8zDKiSH",
        "colab": {
          "base_uri": "https://localhost:8080/"
        },
        "outputId": "3d6f3291-9b35-4db0-e479-c0d9ee24b591"
      },
      "execution_count": 19,
      "outputs": [
        {
          "output_type": "stream",
          "name": "stdout",
          "text": [
            "Precision:  0.9928480204342274\n",
            "Recall:  0.9925925925925926\n",
            "F1-score:  0.9925914322844147\n"
          ]
        }
      ]
    },
    {
      "cell_type": "markdown",
      "source": [
        "## Save the final Transfer Learning model"
      ],
      "metadata": {
        "id": "btyKFl9bZnFk"
      }
    },
    {
      "cell_type": "code",
      "source": [
        "model3_TL.save(\"/content/drive/MyDrive/Abbinav's Portfolio/Transfer Learning CNN project/Models/Model3_TL.h5\")"
      ],
      "metadata": {
        "id": "JktJiUpIKr7W"
      },
      "execution_count": 21,
      "outputs": []
    },
    {
      "cell_type": "code",
      "source": [
        "from numpy import save\n",
        "\n",
        "save(\"/content/drive/MyDrive/Abbinav's Portfolio/Transfer Learning CNN project/Models/X_train_std3.npy\", X_train_std)\n",
        "save(\"/content/drive/MyDrive/Abbinav's Portfolio/Transfer Learning CNN project/Models/X_test_std3.npy\", X_test_std)\n",
        "\n",
        "save(\"/content/drive/MyDrive/Abbinav's Portfolio/Transfer Learning CNN project/Models/y_train3.npy\", y_train)\n",
        "save(\"/content/drive/MyDrive/Abbinav's Portfolio/Transfer Learning CNN project/Models/y_test3.npy\", y_test)"
      ],
      "metadata": {
        "id": "6TlLGqgsLfsi"
      },
      "execution_count": 23,
      "outputs": []
    }
  ],
  "metadata": {
    "kernelspec": {
      "display_name": "Python 3",
      "name": "python3"
    },
    "language_info": {
      "codemirror_mode": {
        "name": "ipython",
        "version": 3
      },
      "file_extension": ".py",
      "mimetype": "text/x-python",
      "name": "python",
      "nbconvert_exporter": "python",
      "pygments_lexer": "ipython3",
      "version": "3.11.4"
    },
    "colab": {
      "provenance": [],
      "gpuType": "T4",
      "toc_visible": true
    },
    "accelerator": "GPU"
  },
  "nbformat": 4,
  "nbformat_minor": 0
}
