{
  "cells": [
    {
      "cell_type": "markdown",
      "metadata": {
        "id": "pQBAOhyNTwP9"
      },
      "source": [
        "# Model 1 Transfer Learning\n",
        "- InceptionResNetV2\n",
        "\n",
        "**Name:** Abbinav Sankar Kailasam <br>\n",
        "**Email:** abbinav.k-25@scds.saiuniversity.edu.in <br>\n",
        "**Reg. No.:** 210200015 <br>\n",
        "**School:** SCDS <br>"
      ]
    },
    {
      "cell_type": "markdown",
      "metadata": {
        "id": "wASvzvMLT31F"
      },
      "source": [
        "## Import necessary libraries"
      ]
    },
    {
      "cell_type": "code",
      "execution_count": 1,
      "metadata": {
        "colab": {
          "base_uri": "https://localhost:8080/",
          "height": 0
        },
        "id": "hzJXPzbJEKM6",
        "outputId": "70d79219-4643-4054-df1a-f9b529259b83"
      },
      "outputs": [
        {
          "output_type": "stream",
          "name": "stdout",
          "text": [
            "2.15.0\n"
          ]
        }
      ],
      "source": [
        "import tensorflow as tf\n",
        "print(tf.__version__)\n",
        "\n",
        "from tensorflow import keras\n",
        "tf.random.set_seed(42)\n",
        "\n",
        "import numpy as np\n",
        "np.random.seed(42)\n",
        "\n",
        "import matplotlib.pyplot as plt\n",
        "%matplotlib inline\n",
        "\n",
        "import glob\n",
        "import PIL\n",
        "from PIL import Image"
      ]
    },
    {
      "cell_type": "code",
      "execution_count": 2,
      "metadata": {
        "colab": {
          "base_uri": "https://localhost:8080/",
          "height": 0
        },
        "id": "BP-9UGuEFGne",
        "outputId": "996c518f-1976-49fd-9810-9828466e25d9"
      },
      "outputs": [
        {
          "output_type": "stream",
          "name": "stdout",
          "text": [
            "Mounted at /content/drive/\n"
          ]
        }
      ],
      "source": [
        "from google.colab import drive\n",
        "drive.mount('/content/drive/')"
      ]
    },
    {
      "cell_type": "markdown",
      "metadata": {
        "id": "V_8om9e3T_QS"
      },
      "source": [
        "## Load all .jpeg and .jpg files"
      ]
    },
    {
      "cell_type": "code",
      "execution_count": 3,
      "metadata": {
        "colab": {
          "base_uri": "https://localhost:8080/",
          "height": 0
        },
        "id": "QqUnKLH6EKM8",
        "outputId": "6d084342-2e18-43ed-a541-b079d8c4eb7b"
      },
      "outputs": [
        {
          "output_type": "stream",
          "name": "stdout",
          "text": [
            "/content/drive/MyDrive/Abbinav's Portfolio/DL_Course_Project/Ornamental_Plants/Damask Rose/Damask Rose (123).jpeg\n",
            "/content/drive/MyDrive/Abbinav's Portfolio/DL_Course_Project/Ornamental_Plants/Damask Rose/Damask Rose (100).jpeg\n",
            "/content/drive/MyDrive/Abbinav's Portfolio/DL_Course_Project/Ornamental_Plants/Damask Rose/Damask Rose (115).jpeg\n",
            "/content/drive/MyDrive/Abbinav's Portfolio/DL_Course_Project/Ornamental_Plants/Damask Rose/Damask Rose (113).jpeg\n",
            "/content/drive/MyDrive/Abbinav's Portfolio/DL_Course_Project/Ornamental_Plants/Damask Rose/Damask Rose (107).jpeg\n",
            "The total number of img files :  1079\n",
            "The total number of damask rose images:  225\n",
            "The total number of rain lily images:  224\n",
            "The total number of echeveria flower images:  225\n",
            "The total number of mirabilis jalapa images:  225\n",
            "The total number of zinnia elegans images:  180\n"
          ]
        }
      ],
      "source": [
        "damask_rose = glob.glob(\"/content/drive/MyDrive/Abbinav's Portfolio/DL_Course_Project/Ornamental_Plants/Damask Rose/*.jpeg\")\n",
        "rain_lily = glob.glob(\"/content/drive/MyDrive/Abbinav's Portfolio/DL_Course_Project/Ornamental_Plants/Rain Lily/*.jpeg\")\n",
        "echeveria_flower = glob.glob(\"/content/drive/MyDrive/Abbinav's Portfolio/DL_Course_Project/Ornamental_Plants/Echeveria Flower/*.jpg\")\n",
        "mirabilis_jalapa = glob.glob(\"/content/drive/MyDrive/Abbinav's Portfolio/DL_Course_Project/Ornamental_Plants/Mirabilis Jalapa/*.jpg\")\n",
        "zinnia_elegans = glob.glob(\"/content/drive/MyDrive/Abbinav's Portfolio/DL_Course_Project/Ornamental_Plants/Zinnia Elegans/*.jpg\")\n",
        "\n",
        "total_drose = len(damask_rose)\n",
        "total_rlily = len(rain_lily)\n",
        "total_eflower = len(echeveria_flower)\n",
        "total_mjalapa = len(mirabilis_jalapa)\n",
        "total_zelegans = len(zinnia_elegans)\n",
        "\n",
        "# Use 45% of images in each file\n",
        "ImgFiles = damask_rose[:round(0.45*total_drose)] + rain_lily[:round(0.45*total_rlily)] + echeveria_flower[:round(0.45*total_eflower)] + mirabilis_jalapa[:round(0.45*total_mjalapa)] + zinnia_elegans[:round(0.45*total_zelegans)]\n",
        "\n",
        "for items in ImgFiles[:5]:\n",
        "    print(items)\n",
        "\n",
        "print(\"The total number of img files : \", len(ImgFiles))\n",
        "print(\"The total number of damask rose images: \", round(0.45*total_drose))\n",
        "print(\"The total number of rain lily images: \", round(0.45*total_rlily))\n",
        "print(\"The total number of echeveria flower images: \", round(0.45*total_eflower))\n",
        "print(\"The total number of mirabilis jalapa images: \", round(0.45*total_mjalapa))\n",
        "print(\"The total number of zinnia elegans images: \", round(0.45*total_zelegans))"
      ]
    },
    {
      "cell_type": "markdown",
      "metadata": {
        "id": "OMsTN8GZUz8G"
      },
      "source": [
        "## Prepare the dataset and populate X and y"
      ]
    },
    {
      "cell_type": "code",
      "execution_count": 4,
      "metadata": {
        "id": "QaoJcrPiEKM9"
      },
      "outputs": [],
      "source": [
        "X = []\n",
        "y = []\n",
        "\n",
        "for fName in ImgFiles:\n",
        "\n",
        "  X_i = Image.open(fName)\n",
        "  X_i = X_i.resize((299,299))\n",
        "  X_i = np.array(X_i) / 255.0\n",
        "\n",
        "  X.append(X_i)\n",
        "\n",
        "  label = fName.split('/')\n",
        "  y_i = label[-2]\n",
        "\n",
        "  y.append(y_i)"
      ]
    },
    {
      "cell_type": "code",
      "execution_count": 5,
      "metadata": {
        "colab": {
          "base_uri": "https://localhost:8080/",
          "height": 0
        },
        "id": "kQ_F6QaxyNxx",
        "outputId": "4f8f5744-cace-4c83-ca5d-9b8cfecce601"
      },
      "outputs": [
        {
          "output_type": "stream",
          "name": "stdout",
          "text": [
            "{'Echeveria Flower', 'Rain Lily', 'Damask Rose', 'Mirabilis Jalapa', 'Zinnia Elegans'}\n",
            "1079\n",
            "1079\n"
          ]
        }
      ],
      "source": [
        "print(set(y)) # classes\n",
        "\n",
        "print(len(X)) # Number of samples\n",
        "print(len(y))"
      ]
    },
    {
      "cell_type": "code",
      "execution_count": 6,
      "metadata": {
        "colab": {
          "base_uri": "https://localhost:8080/",
          "height": 0
        },
        "id": "XTg3gYZ1EKM-",
        "outputId": "7ca9e354-abff-4597-ad92-d99fd63c5130"
      },
      "outputs": [
        {
          "output_type": "stream",
          "name": "stdout",
          "text": [
            "{0, 1, 2, 3, 4}\n",
            "['Damask Rose' 'Echeveria Flower' 'Mirabilis Jalapa' 'Rain Lily'\n",
            " 'Zinnia Elegans']\n"
          ]
        }
      ],
      "source": [
        "# Transform y (classes) into integer values using label encoder\n",
        "\n",
        "from sklearn.preprocessing import LabelEncoder\n",
        "\n",
        "lEncoder = LabelEncoder()\n",
        "y = lEncoder.fit_transform(y)\n",
        "\n",
        "print(set(y))\n",
        "print(lEncoder.classes_)"
      ]
    },
    {
      "cell_type": "code",
      "execution_count": 7,
      "metadata": {
        "colab": {
          "base_uri": "https://localhost:8080/",
          "height": 0
        },
        "id": "Vz1rRsYax1Ua",
        "outputId": "03eee0e0-db3c-4e50-8f23-4035b1cc166a"
      },
      "outputs": [
        {
          "output_type": "stream",
          "name": "stdout",
          "text": [
            "(1079, 299, 299, 3)\n",
            "(1079,)\n"
          ]
        }
      ],
      "source": [
        "# Convert X and y to numpy arrays\n",
        "\n",
        "X = np.array(X)\n",
        "y = np.array(y)\n",
        "\n",
        "print(X.shape)\n",
        "print(y.shape)"
      ]
    },
    {
      "cell_type": "markdown",
      "metadata": {
        "id": "y_Aa9JmS0CII"
      },
      "source": [
        "## Train - Test split (75-25)"
      ]
    },
    {
      "cell_type": "code",
      "execution_count": 8,
      "metadata": {
        "colab": {
          "base_uri": "https://localhost:8080/",
          "height": 0
        },
        "id": "QJorycjNEKM-",
        "outputId": "6a9c1994-1c4a-4081-ce90-123d0ae98017"
      },
      "outputs": [
        {
          "output_type": "stream",
          "name": "stdout",
          "text": [
            "X_train_shape: (809, 299, 299, 3)\n",
            "X_test_shape: (270, 299, 299, 3)\n"
          ]
        }
      ],
      "source": [
        "from sklearn.model_selection import train_test_split\n",
        "\n",
        "X_train, X_test, y_train, y_test = train_test_split(X, y,\n",
        "                                                    test_size=0.25,\n",
        "                                                    stratify = y,\n",
        "                                                    random_state=42)\n",
        "\n",
        "print(\"X_train_shape: {}\".format(X_train.shape))\n",
        "print(\"X_test_shape: {}\".format(X_test.shape))"
      ]
    },
    {
      "cell_type": "code",
      "execution_count": 9,
      "metadata": {
        "id": "zCL0XKqHEKM-"
      },
      "outputs": [],
      "source": [
        "# Standardizing X_train and X_test\n",
        "\n",
        "mu = X_train.mean()\n",
        "std = X_train.std()\n",
        "\n",
        "X_train_std = (X_train-mu)/std\n",
        "X_test_std = (X_test-mu)/std"
      ]
    },
    {
      "cell_type": "markdown",
      "source": [
        "### Total Number of images in the dataset = 1079\n",
        "\n",
        "### Number of images present per class:\n",
        "- Damask rose:  225\n",
        "- Rain lily:  224\n",
        "- Echeveria flower:  225\n",
        "- Mirabilis jalapa:  225\n",
        "- Zinnia elegans:  180\n",
        "\n",
        "### Total number of images for Training and Testing:\n",
        "- Training : 809\n",
        "- Testing : 270"
      ],
      "metadata": {
        "id": "iFcKGgSLcLd0"
      }
    },
    {
      "cell_type": "markdown",
      "metadata": {
        "id": "AlwRuusZzKYL"
      },
      "source": [
        "## Retrieve InceptionResNetV2 model and preparing the CNN model architecture"
      ]
    },
    {
      "cell_type": "code",
      "execution_count": 11,
      "metadata": {
        "id": "VImjiCK9EKM_"
      },
      "outputs": [],
      "source": [
        "# Using InceptionResNetV2 model without classifier as base model\n",
        "base_model = keras.applications.InceptionResNetV2(\n",
        "                include_top=False,\n",
        "                weights=\"imagenet\"\n",
        ")\n",
        "\n",
        "# Freeze the weights - will not be updated during backpropagation\n",
        "for layer in base_model.layers:\n",
        "  layer.trainable = False\n",
        "\n",
        "# Adding classifier\n",
        "global_pool = keras.layers.GlobalAveragePooling2D()(base_model.output)\n",
        "\n",
        "x = keras.layers.BatchNormalization()(global_pool)\n",
        "x = keras.layers.Dropout(0.25)(x)\n",
        "\n",
        "output_ = keras.layers.Dense(units=5, activation='softmax')(x)\n",
        "\n",
        "model1_TL = keras.models.Model(inputs=[base_model.input], outputs=[output_])"
      ]
    },
    {
      "cell_type": "markdown",
      "metadata": {
        "id": "zBAZA4XFBatm"
      },
      "source": [
        "## Compile, fit and evaluate the model.\n",
        "- Save the best weights"
      ]
    },
    {
      "cell_type": "code",
      "execution_count": 12,
      "metadata": {
        "colab": {
          "base_uri": "https://localhost:8080/",
          "height": 0
        },
        "id": "T97F4vJyEKM_",
        "outputId": "480702b4-b701-412a-e295-8a4a5af8ddd5"
      },
      "outputs": [
        {
          "output_type": "stream",
          "name": "stdout",
          "text": [
            "Epoch 1/10\n",
            "46/46 [==============================] - 42s 467ms/step - loss: 0.3074 - accuracy: 0.8915 - val_loss: 0.4078 - val_accuracy: 0.9259\n",
            "Epoch 2/10\n",
            "46/46 [==============================] - 11s 235ms/step - loss: 0.0355 - accuracy: 0.9918 - val_loss: 0.2040 - val_accuracy: 0.9753\n",
            "Epoch 3/10\n",
            "46/46 [==============================] - 14s 313ms/step - loss: 0.0242 - accuracy: 0.9931 - val_loss: 0.0930 - val_accuracy: 1.0000\n",
            "Epoch 4/10\n",
            "46/46 [==============================] - 8s 177ms/step - loss: 0.0152 - accuracy: 0.9931 - val_loss: 0.0438 - val_accuracy: 1.0000\n",
            "Epoch 5/10\n",
            "46/46 [==============================] - 8s 175ms/step - loss: 0.0048 - accuracy: 1.0000 - val_loss: 0.0169 - val_accuracy: 1.0000\n",
            "Epoch 6/10\n",
            "46/46 [==============================] - 8s 179ms/step - loss: 0.0056 - accuracy: 0.9986 - val_loss: 0.0089 - val_accuracy: 1.0000\n",
            "Epoch 7/10\n",
            "46/46 [==============================] - 8s 176ms/step - loss: 0.0041 - accuracy: 0.9986 - val_loss: 0.0048 - val_accuracy: 1.0000\n",
            "Epoch 8/10\n",
            "46/46 [==============================] - 8s 181ms/step - loss: 0.0069 - accuracy: 0.9986 - val_loss: 0.0035 - val_accuracy: 1.0000\n",
            "Epoch 9/10\n",
            "46/46 [==============================] - 9s 187ms/step - loss: 0.0025 - accuracy: 1.0000 - val_loss: 0.0018 - val_accuracy: 1.0000\n",
            "Epoch 10/10\n",
            "46/46 [==============================] - 8s 181ms/step - loss: 0.0056 - accuracy: 0.9986 - val_loss: 0.0020 - val_accuracy: 1.0000\n"
          ]
        }
      ],
      "source": [
        "model1_TL.compile(loss='sparse_categorical_crossentropy',\n",
        "                 optimizer='adam',\n",
        "                 metrics=['accuracy'])\n",
        "\n",
        "callbacks1_TL = [\n",
        "             keras.callbacks.ModelCheckpoint(\"bestTL1.h5\",\n",
        "                                             monitor='val_accuracy',\n",
        "                                             save_weights_only=True,\n",
        "                                             save_best_only=True)]\n",
        "\n",
        "history1_TL = model1_TL.fit(x = X_train_std, y = y_train, epochs=10,\n",
        "                          validation_split=0.1, batch_size=16, callbacks=callbacks1_TL)"
      ]
    },
    {
      "cell_type": "code",
      "execution_count": 13,
      "metadata": {
        "colab": {
          "base_uri": "https://localhost:8080/",
          "height": 449
        },
        "id": "ZeJDq0IRJKje",
        "outputId": "1b87f1a3-e4ec-4752-c051-30b33e6a21c3"
      },
      "outputs": [
        {
          "output_type": "display_data",
          "data": {
            "text/plain": [
              "<Figure size 640x480 with 1 Axes>"
            ],
            "image/png": "[encoded data removed]"
          },
          "metadata": {}
        }
      ],
      "source": [
        "keys = ['accuracy', 'val_accuracy']\n",
        "progress = {k:v for k,v in history1_TL.history.items() if k in keys}\n",
        "\n",
        "import pandas as pd\n",
        "pd.DataFrame(progress).plot()\n",
        "\n",
        "plt.xlabel(\"epochs\")\n",
        "plt.ylabel(\"accuracy\")\n",
        "\n",
        "plt.grid(True)\n",
        "plt.show()"
      ]
    },
    {
      "cell_type": "code",
      "execution_count": 14,
      "metadata": {
        "colab": {
          "base_uri": "https://localhost:8080/",
          "height": 0
        },
        "id": "5sNNfAN9JSyK",
        "outputId": "fa518173-e005-4ae7-8a08-6eb61008ea97"
      },
      "outputs": [
        {
          "output_type": "stream",
          "name": "stdout",
          "text": [
            "9/9 [==============================] - 13s 702ms/step - loss: 8.3399e-04 - accuracy: 1.0000\n",
            "Test-loss: 0.000834, Test-accuracy: 1.000000\n"
          ]
        }
      ],
      "source": [
        "testLoss_TL, testAccuracy_TL = model1_TL.evaluate(x = X_test_std, y = y_test)\n",
        "print(\"Test-loss: %f, Test-accuracy: %f\" % (testLoss_TL, testAccuracy_TL))"
      ]
    },
    {
      "cell_type": "code",
      "execution_count": 15,
      "metadata": {
        "colab": {
          "base_uri": "https://localhost:8080/",
          "height": 0
        },
        "id": "tQ0FVJAkJWCQ",
        "outputId": "6b305b95-ab80-4ad6-d788-3ea594f75d95"
      },
      "outputs": [
        {
          "output_type": "stream",
          "name": "stdout",
          "text": [
            "9/9 [==============================] - 3s 271ms/step - loss: 0.0790 - accuracy: 1.0000\n",
            "Test-loss: 0.079044, Test-accuracy: 1.000000\n"
          ]
        }
      ],
      "source": [
        "# Plugging best weights to the model to evaluate\n",
        "\n",
        "model1_TL.load_weights(\"bestTL1.h5\")\n",
        "\n",
        "testLoss_TL, testAccuracy_TL = model1_TL.evaluate(x = X_test_std, y = y_test)\n",
        "\n",
        "print(\"Test-loss: %f, Test-accuracy: %f\" % (testLoss_TL, testAccuracy_TL))"
      ]
    },
    {
      "cell_type": "markdown",
      "metadata": {
        "id": "V4vn20BuZgFF"
      },
      "source": [
        "## Prediction of testing sample and inferences"
      ]
    },
    {
      "cell_type": "code",
      "execution_count": 16,
      "metadata": {
        "colab": {
          "base_uri": "https://localhost:8080/",
          "height": 0
        },
        "id": "lndx7BhbKI85",
        "outputId": "41e1b592-0138-4b4f-e05f-0285f4f4c68f"
      },
      "outputs": [
        {
          "output_type": "stream",
          "name": "stdout",
          "text": [
            "9/9 [==============================] - 6s 278ms/step\n",
            "[4 3 1 3 0 4 1 4 1 4 0 4 1 1 4 4 0 2 2 3 3 3 1 2 0 0 4 3 1 4 3 2 0 1 1 1 3\n",
            " 3 1 0 0 0 1 0 0 3 1 1 4 3 0 2 3 2 2 3 4 2 1 0 3 3 0 2 0 0 3 2 4 3 3 2 4 2\n",
            " 3 3 1 2 4 4 2 3 0 1 4 1 1 2 2 2 2 0 0 2 4 1 3 2 1 0 2 3 3 3 4 2 4 4 1 3 0\n",
            " 2 4 3 1 0 3 2 1 0 1 3 1 1 1 0 2 2 1 0 4 2 2 2 1 1 1 2 0 2 1 1 1 4 3 0 0 2\n",
            " 0 2 3 0 0 1 1 4 2 0 2 3 4 3 2 3 0 0 1 0 1 1 2 4 2 1 4 3 2 3 4 0 0 3 2 3 4\n",
            " 0 3 2 3 4 3 0 3 3 0 2 0 3 3 0 3 2 1 1 3 0 2 4 0 0 4 0 3 4 1 2 2 3 1 2 3 4\n",
            " 2 0 0 2 0 4 4 4 3 2 1 2 4 3 4 1 1 4 3 3 0 0 2 0 1 1 1 4 1 3 1 4 2 3 0 2 4\n",
            " 2 1 0 2 4 2 1 4 0 1 0]\n"
          ]
        }
      ],
      "source": [
        "y_proba = model1_TL.predict(X_test_std)\n",
        "y_predict = np.argmax(y_proba, axis=-1)\n",
        "print(y_predict)"
      ]
    },
    {
      "cell_type": "code",
      "execution_count": 17,
      "metadata": {
        "colab": {
          "base_uri": "https://localhost:8080/",
          "height": 659
        },
        "id": "ywGr4om4KRS_",
        "outputId": "a6225273-80bc-4160-c067-9692da963d4f"
      },
      "outputs": [
        {
          "output_type": "display_data",
          "data": {
            "text/plain": [
              "<Figure size 600x600 with 1 Axes>"
            ],
            "image/png": "[encoded data removed]"
          },
          "metadata": {}
        },
        {
          "output_type": "stream",
          "name": "stdout",
          "text": [
            "{0, 1, 2, 3, 4}\n",
            "['Damask Rose' 'Echeveria Flower' 'Mirabilis Jalapa' 'Rain Lily'\n",
            " 'Zinnia Elegans']\n"
          ]
        }
      ],
      "source": [
        "# Confusion matrix of testing data\n",
        "\n",
        "from sklearn.metrics import confusion_matrix\n",
        "\n",
        "cm = confusion_matrix(y_true = y_test, y_pred = y_predict)\n",
        "\n",
        "fig, ax = plt.subplots(figsize=(6, 6))\n",
        "ax.matshow(cm, cmap=plt.cm.Blues, alpha=0.3)\n",
        "\n",
        "for i in range(cm.shape[0]):\n",
        "    for j in range(cm.shape[1]):\n",
        "        ax.text(x=j, y=i, s=cm[i, j], va='center', ha='center')\n",
        "\n",
        "ax.title.set_text('CNN\\n')\n",
        "plt.xlabel('Predicted label')\n",
        "plt.ylabel('True label')\n",
        "\n",
        "plt.tight_layout()\n",
        "plt.show()\n",
        "\n",
        "print(set(y))\n",
        "print(lEncoder.classes_)"
      ]
    },
    {
      "cell_type": "code",
      "execution_count": 18,
      "metadata": {
        "colab": {
          "base_uri": "https://localhost:8080/",
          "height": 0
        },
        "id": "q9wuY8zDKiSH",
        "outputId": "70aa4e76-f227-49c5-8ef2-c1bdc33cd960"
      },
      "outputs": [
        {
          "output_type": "stream",
          "name": "stdout",
          "text": [
            "Precision:  1.0\n",
            "Recall:  1.0\n",
            "F1-score:  1.0\n"
          ]
        }
      ],
      "source": [
        "# Calculating the precision, recall and f1 score\n",
        "\n",
        "from sklearn.metrics import precision_score, recall_score, f1_score\n",
        "\n",
        "pScore = precision_score(y_true= y_test, y_pred = y_predict, average = 'weighted')\n",
        "print(\"Precision: \", pScore)\n",
        "\n",
        "rScore = recall_score(y_true= y_test, y_pred = y_predict, average = 'weighted')\n",
        "print(\"Recall: \", rScore)\n",
        "\n",
        "fScore = f1_score(y_true= y_test, y_pred = y_predict, average = 'weighted')\n",
        "print(\"F1-score: \", fScore)"
      ]
    },
    {
      "cell_type": "markdown",
      "metadata": {
        "id": "btyKFl9bZnFk"
      },
      "source": [
        "## Save the final Transfer Learning model"
      ]
    },
    {
      "cell_type": "code",
      "execution_count": 19,
      "metadata": {
        "colab": {
          "base_uri": "https://localhost:8080/",
          "height": 0
        },
        "id": "JktJiUpIKr7W",
        "outputId": "15a01a39-2033-4c9e-f2d0-3a9ff63ebb48"
      },
      "outputs": [
        {
          "output_type": "stream",
          "name": "stderr",
          "text": [
            "/usr/local/lib/python3.10/dist-packages/keras/src/engine/training.py:3103: UserWarning: You are saving your model as an HDF5 file via `model.save()`. This file format is considered legacy. We recommend using instead the native Keras format, e.g. `model.save('my_model.keras')`.\n",
            "  saving_api.save_model(\n"
          ]
        }
      ],
      "source": [
        "model1_TL.save(\"/content/drive/MyDrive/Abbinav's Portfolio/DL_Course_Project/Models/Model1_TL.h5\")"
      ]
    },
    {
      "cell_type": "code",
      "execution_count": 21,
      "metadata": {
        "id": "6TlLGqgsLfsi"
      },
      "outputs": [],
      "source": [
        "from numpy import save\n",
        "\n",
        "save(\"/content/drive/MyDrive/Abbinav's Portfolio/DL_Course_Project/Models/X_train_std1.npy\", X_train_std)\n",
        "save(\"/content/drive/MyDrive/Abbinav's Portfolio/DL_Course_Project/Models/X_test_std1.npy\", X_test_std)\n",
        "\n",
        "save(\"/content/drive/MyDrive/Abbinav's Portfolio/DL_Course_Project/Models/y_train1.npy\", y_train)\n",
        "save(\"/content/drive/MyDrive/Abbinav's Portfolio/DL_Course_Project/Models/y_test1.npy\", y_test)"
      ]
    }
  ],
  "metadata": {
    "accelerator": "GPU",
    "colab": {
      "toc_visible": true,
      "provenance": [],
      "gpuType": "T4"
    },
    "kernelspec": {
      "display_name": "Python 3",
      "name": "python3"
    },
    "language_info": {
      "codemirror_mode": {
        "name": "ipython",
        "version": 3
      },
      "file_extension": ".py",
      "mimetype": "text/x-python",
      "name": "python",
      "nbconvert_exporter": "python",
      "pygments_lexer": "ipython3",
      "version": "3.11.4"
    }
  },
  "nbformat": 4,
  "nbformat_minor": 0
}