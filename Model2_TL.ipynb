{
  "cells": [
    {
      "cell_type": "markdown",
      "metadata": {
        "id": "pQBAOhyNTwP9"
      },
      "source": [
        "# Model 2 Transfer Learning\n",
        "- EfficientNetV2B0\n",
        "\n",
        "**Name:** Abbinav Sankar Kailasam <br>\n",
        "**Email:** abbinav.k-25@scds.saiuniversity.edu.in <br>\n",
        "**Reg. No.:** 210200015 <br>\n",
        "**School:** SCDS <br>"
      ]
    },
    {
      "cell_type": "markdown",
      "metadata": {
        "id": "wASvzvMLT31F"
      },
      "source": [
        "## Import necessary libraries"
      ]
    },
    {
      "cell_type": "code",
      "execution_count": 1,
      "metadata": {
        "colab": {
          "base_uri": "https://localhost:8080/",
          "height": 0
        },
        "id": "hzJXPzbJEKM6",
        "outputId": "742ced17-991f-4417-8411-05b3ffc9383e"
      },
      "outputs": [
        {
          "output_type": "stream",
          "name": "stdout",
          "text": [
            "2.15.0\n"
          ]
        }
      ],
      "source": [
        "import tensorflow as tf\n",
        "print(tf.__version__)\n",
        "\n",
        "from tensorflow import keras\n",
        "tf.random.set_seed(42)\n",
        "\n",
        "import numpy as np\n",
        "np.random.seed(42)\n",
        "\n",
        "import matplotlib.pyplot as plt\n",
        "%matplotlib inline\n",
        "\n",
        "import glob\n",
        "import PIL\n",
        "from PIL import Image"
      ]
    },
    {
      "cell_type": "code",
      "execution_count": 2,
      "metadata": {
        "colab": {
          "base_uri": "https://localhost:8080/",
          "height": 0
        },
        "id": "BP-9UGuEFGne",
        "outputId": "cbc4dace-0735-4a6b-8d41-f71d9462ff5a"
      },
      "outputs": [
        {
          "output_type": "stream",
          "name": "stdout",
          "text": [
            "Mounted at /content/drive/\n"
          ]
        }
      ],
      "source": [
        "from google.colab import drive\n",
        "drive.mount('/content/drive/')"
      ]
    },
    {
      "cell_type": "markdown",
      "metadata": {
        "id": "V_8om9e3T_QS"
      },
      "source": [
        "## Load all .jpeg and .jpg files"
      ]
    },
    {
      "cell_type": "code",
      "execution_count": 3,
      "metadata": {
        "colab": {
          "base_uri": "https://localhost:8080/",
          "height": 0
        },
        "id": "QqUnKLH6EKM8",
        "outputId": "9d4de54c-865b-4b06-cea7-1cad143a1243"
      },
      "outputs": [
        {
          "output_type": "stream",
          "name": "stdout",
          "text": [
            "/content/drive/MyDrive/Abbinav's Portfolio/DL_Course_Project/Ornamental_Plants/Damask Rose/Damask Rose (123).jpeg\n",
            "/content/drive/MyDrive/Abbinav's Portfolio/DL_Course_Project/Ornamental_Plants/Damask Rose/Damask Rose (100).jpeg\n",
            "/content/drive/MyDrive/Abbinav's Portfolio/DL_Course_Project/Ornamental_Plants/Damask Rose/Damask Rose (115).jpeg\n",
            "/content/drive/MyDrive/Abbinav's Portfolio/DL_Course_Project/Ornamental_Plants/Damask Rose/Damask Rose (113).jpeg\n",
            "/content/drive/MyDrive/Abbinav's Portfolio/DL_Course_Project/Ornamental_Plants/Damask Rose/Damask Rose (107).jpeg\n",
            "The total number of img files :  1079\n",
            "The total number of damask rose images:  225\n",
            "The total number of rain lily images:  224\n",
            "The total number of echeveria flower images:  225\n",
            "The total number of mirabilis jalapa images:  225\n",
            "The total number of zinnia elegans images:  180\n"
          ]
        }
      ],
      "source": [
        "damask_rose = glob.glob(\"/content/drive/MyDrive/Abbinav's Portfolio/DL_Course_Project/Ornamental_Plants/Damask Rose/*.jpeg\")\n",
        "rain_lily = glob.glob(\"/content/drive/MyDrive/Abbinav's Portfolio/DL_Course_Project/Ornamental_Plants/Rain Lily/*.jpeg\")\n",
        "echeveria_flower = glob.glob(\"/content/drive/MyDrive/Abbinav's Portfolio/DL_Course_Project/Ornamental_Plants/Echeveria Flower/*.jpg\")\n",
        "mirabilis_jalapa = glob.glob(\"/content/drive/MyDrive/Abbinav's Portfolio/DL_Course_Project/Ornamental_Plants/Mirabilis Jalapa/*.jpg\")\n",
        "zinnia_elegans = glob.glob(\"/content/drive/MyDrive/Abbinav's Portfolio/DL_Course_Project/Ornamental_Plants/Zinnia Elegans/*.jpg\")\n",
        "\n",
        "total_drose = len(damask_rose)\n",
        "total_rlily = len(rain_lily)\n",
        "total_eflower = len(echeveria_flower)\n",
        "total_mjalapa = len(mirabilis_jalapa)\n",
        "total_zelegans = len(zinnia_elegans)\n",
        "\n",
        "# Use 45% of images in each file\n",
        "ImgFiles = damask_rose[:round(0.45*total_drose)] + rain_lily[:round(0.45*total_rlily)] + echeveria_flower[:round(0.45*total_eflower)] + mirabilis_jalapa[:round(0.45*total_mjalapa)] + zinnia_elegans[:round(0.45*total_zelegans)]\n",
        "\n",
        "for items in ImgFiles[:5]:\n",
        "    print(items)\n",
        "\n",
        "print(\"The total number of img files : \", len(ImgFiles))\n",
        "print(\"The total number of damask rose images: \", round(0.45*total_drose))\n",
        "print(\"The total number of rain lily images: \", round(0.45*total_rlily))\n",
        "print(\"The total number of echeveria flower images: \", round(0.45*total_eflower))\n",
        "print(\"The total number of mirabilis jalapa images: \", round(0.45*total_mjalapa))\n",
        "print(\"The total number of zinnia elegans images: \", round(0.45*total_zelegans))"
      ]
    },
    {
      "cell_type": "markdown",
      "metadata": {
        "id": "OMsTN8GZUz8G"
      },
      "source": [
        "## Prepare the dataset and populate X and y"
      ]
    },
    {
      "cell_type": "code",
      "execution_count": 4,
      "metadata": {
        "id": "QaoJcrPiEKM9"
      },
      "outputs": [],
      "source": [
        "X = []\n",
        "y = []\n",
        "\n",
        "for fName in ImgFiles:\n",
        "\n",
        "  X_i = Image.open(fName)\n",
        "  X_i = X_i.resize((299,299))\n",
        "  X_i = np.array(X_i) / 255.0\n",
        "\n",
        "  X.append(X_i)\n",
        "\n",
        "  label = fName.split('/')\n",
        "  y_i = label[-2]\n",
        "\n",
        "  y.append(y_i)"
      ]
    },
    {
      "cell_type": "code",
      "execution_count": 5,
      "metadata": {
        "colab": {
          "base_uri": "https://localhost:8080/",
          "height": 0
        },
        "id": "kQ_F6QaxyNxx",
        "outputId": "b36b2095-d9ca-4c3c-861d-459ea7cd3d17"
      },
      "outputs": [
        {
          "output_type": "stream",
          "name": "stdout",
          "text": [
            "{'Damask Rose', 'Zinnia Elegans', 'Rain Lily', 'Echeveria Flower', 'Mirabilis Jalapa'}\n",
            "1079\n",
            "1079\n"
          ]
        }
      ],
      "source": [
        "print(set(y)) # classes\n",
        "\n",
        "print(len(X)) # Number of samples\n",
        "print(len(y))"
      ]
    },
    {
      "cell_type": "code",
      "execution_count": 6,
      "metadata": {
        "colab": {
          "base_uri": "https://localhost:8080/",
          "height": 0
        },
        "id": "XTg3gYZ1EKM-",
        "outputId": "db588863-83e9-4796-e599-86c2fb67e796"
      },
      "outputs": [
        {
          "output_type": "stream",
          "name": "stdout",
          "text": [
            "{0, 1, 2, 3, 4}\n",
            "['Damask Rose' 'Echeveria Flower' 'Mirabilis Jalapa' 'Rain Lily'\n",
            " 'Zinnia Elegans']\n"
          ]
        }
      ],
      "source": [
        "# Transform y (classes) into integer values using label encoder\n",
        "\n",
        "from sklearn.preprocessing import LabelEncoder\n",
        "\n",
        "lEncoder = LabelEncoder()\n",
        "y = lEncoder.fit_transform(y)\n",
        "\n",
        "print(set(y))\n",
        "print(lEncoder.classes_)"
      ]
    },
    {
      "cell_type": "code",
      "execution_count": 7,
      "metadata": {
        "colab": {
          "base_uri": "https://localhost:8080/",
          "height": 0
        },
        "id": "Vz1rRsYax1Ua",
        "outputId": "9bb1bb57-2c7d-478f-81c4-a206d0994e7c"
      },
      "outputs": [
        {
          "output_type": "stream",
          "name": "stdout",
          "text": [
            "(1079, 299, 299, 3)\n",
            "(1079,)\n"
          ]
        }
      ],
      "source": [
        "# Convert X and y to numpy arrays\n",
        "\n",
        "X = np.array(X)\n",
        "y = np.array(y)\n",
        "\n",
        "print(X.shape)\n",
        "print(y.shape)"
      ]
    },
    {
      "cell_type": "markdown",
      "metadata": {
        "id": "y_Aa9JmS0CII"
      },
      "source": [
        "## Train - Test split (75-25)"
      ]
    },
    {
      "cell_type": "code",
      "execution_count": 8,
      "metadata": {
        "colab": {
          "base_uri": "https://localhost:8080/",
          "height": 0
        },
        "id": "QJorycjNEKM-",
        "outputId": "340b17b4-09bf-458d-bfbc-89412cfcde3f"
      },
      "outputs": [
        {
          "output_type": "stream",
          "name": "stdout",
          "text": [
            "X_train_shape: (809, 299, 299, 3)\n",
            "X_test_shape: (270, 299, 299, 3)\n"
          ]
        }
      ],
      "source": [
        "from sklearn.model_selection import train_test_split\n",
        "\n",
        "X_train, X_test, y_train, y_test = train_test_split(X, y,\n",
        "                                                    test_size=0.25,\n",
        "                                                    stratify = y,\n",
        "                                                    random_state=42)\n",
        "\n",
        "print(\"X_train_shape: {}\".format(X_train.shape))\n",
        "print(\"X_test_shape: {}\".format(X_test.shape))"
      ]
    },
    {
      "cell_type": "code",
      "execution_count": 9,
      "metadata": {
        "id": "zCL0XKqHEKM-"
      },
      "outputs": [],
      "source": [
        "# Standardizing X_train and X_test\n",
        "\n",
        "mu = X_train.mean()\n",
        "std = X_train.std()\n",
        "\n",
        "X_train_std = (X_train-mu)/std\n",
        "X_test_std = (X_test-mu)/std"
      ]
    },
    {
      "cell_type": "markdown",
      "metadata": {
        "id": "vzrCv5Kpe2ni"
      },
      "source": [
        "### Total Number of images in the dataset = 1079\n",
        "\n",
        "### Number of images present per class:\n",
        "- Damask rose:  225\n",
        "- Rain lily:  224\n",
        "- Echeveria flower:  225\n",
        "- Mirabilis jalapa:  225\n",
        "- Zinnia elegans:  180\n",
        "\n",
        "### Total number of images for Training and Testing:\n",
        "- Training : 809\n",
        "- Testing : 270"
      ]
    },
    {
      "cell_type": "markdown",
      "metadata": {
        "id": "AlwRuusZzKYL"
      },
      "source": [
        "## Retrieve InceptionResNetV2 model and preparing the CNN model architecture"
      ]
    },
    {
      "cell_type": "code",
      "execution_count": 11,
      "metadata": {
        "id": "VImjiCK9EKM_"
      },
      "outputs": [],
      "source": [
        "# Using InceptionResNetV2 model without classifier as base model\n",
        "base_model = keras.applications.EfficientNetV2B0(\n",
        "                include_top=False,\n",
        "                weights=\"imagenet\"\n",
        ")\n",
        "\n",
        "# Freeze the weights - will not be updated during backpropagation\n",
        "for layer in base_model.layers:\n",
        "  layer.trainable = False\n",
        "\n",
        "# Adding classifier\n",
        "global_pool = keras.layers.GlobalAveragePooling2D()(base_model.output)\n",
        "\n",
        "x = keras.layers.BatchNormalization()(global_pool)\n",
        "x = keras.layers.Dropout(0.35)(x)\n",
        "\n",
        "output_ = keras.layers.Dense(units=5, activation='softmax')(x)\n",
        "\n",
        "model2_TL = keras.models.Model(inputs=[base_model.input], outputs=[output_])"
      ]
    },
    {
      "cell_type": "markdown",
      "metadata": {
        "id": "zBAZA4XFBatm"
      },
      "source": [
        "## Compile, fit and evaluate the model.\n",
        "- Save the best weights"
      ]
    },
    {
      "cell_type": "code",
      "execution_count": 12,
      "metadata": {
        "colab": {
          "base_uri": "https://localhost:8080/",
          "height": 0
        },
        "id": "T97F4vJyEKM_",
        "outputId": "48fd8d69-bf45-4688-e35e-62f274858975"
      },
      "outputs": [
        {
          "output_type": "stream",
          "name": "stdout",
          "text": [
            "Epoch 1/10\n",
            "46/46 [==============================] - 21s 179ms/step - loss: 1.3277 - accuracy: 0.4629 - val_loss: 1.3997 - val_accuracy: 0.3827\n",
            "Epoch 2/10\n",
            "46/46 [==============================] - 3s 61ms/step - loss: 1.0195 - accuracy: 0.6099 - val_loss: 1.3126 - val_accuracy: 0.4074\n",
            "Epoch 3/10\n",
            "46/46 [==============================] - 3s 63ms/step - loss: 0.8119 - accuracy: 0.6703 - val_loss: 1.2227 - val_accuracy: 0.4691\n",
            "Epoch 4/10\n",
            "46/46 [==============================] - 3s 68ms/step - loss: 0.7937 - accuracy: 0.6607 - val_loss: 1.1237 - val_accuracy: 0.7284\n",
            "Epoch 5/10\n",
            "46/46 [==============================] - 3s 60ms/step - loss: 0.6777 - accuracy: 0.7321 - val_loss: 1.0002 - val_accuracy: 0.7284\n",
            "Epoch 6/10\n",
            "46/46 [==============================] - 3s 63ms/step - loss: 0.6720 - accuracy: 0.7212 - val_loss: 0.8927 - val_accuracy: 0.8272\n",
            "Epoch 7/10\n",
            "46/46 [==============================] - 3s 69ms/step - loss: 0.6488 - accuracy: 0.7486 - val_loss: 0.7810 - val_accuracy: 0.8519\n",
            "Epoch 8/10\n",
            "46/46 [==============================] - 3s 63ms/step - loss: 0.6425 - accuracy: 0.7349 - val_loss: 0.6693 - val_accuracy: 0.8765\n",
            "Epoch 9/10\n",
            "46/46 [==============================] - 3s 65ms/step - loss: 0.5509 - accuracy: 0.7665 - val_loss: 0.5922 - val_accuracy: 0.8519\n",
            "Epoch 10/10\n",
            "46/46 [==============================] - 3s 67ms/step - loss: 0.5630 - accuracy: 0.7816 - val_loss: 0.5284 - val_accuracy: 0.8889\n"
          ]
        }
      ],
      "source": [
        "model2_TL.compile(loss='sparse_categorical_crossentropy',\n",
        "                 optimizer='adam',\n",
        "                 metrics=['accuracy'])\n",
        "\n",
        "callbacks2_TL = [\n",
        "             keras.callbacks.ModelCheckpoint(\"bestTL2.h5\",\n",
        "                                             monitor='val_accuracy',\n",
        "                                             save_weights_only=True,\n",
        "                                             save_best_only=True)]\n",
        "\n",
        "history2_TL = model2_TL.fit(x = X_train_std, y = y_train, epochs=10,\n",
        "                          validation_split=0.1, batch_size=16, callbacks=callbacks2_TL)"
      ]
    },
    {
      "cell_type": "code",
      "execution_count": 13,
      "metadata": {
        "colab": {
          "base_uri": "https://localhost:8080/",
          "height": 449
        },
        "id": "ZeJDq0IRJKje",
        "outputId": "a55c9df2-7902-4025-906c-eb5d922c950c"
      },
      "outputs": [
        {
          "output_type": "display_data",
          "data": {
            "text/plain": [
              "<Figure size 640x480 with 1 Axes>"
            ],
            "image/png": "[encoded data removed]"
          },
          "metadata": {}
        }
      ],
      "source": [
        "keys = ['accuracy', 'val_accuracy']\n",
        "progress = {k:v for k,v in history2_TL.history.items() if k in keys}\n",
        "\n",
        "import pandas as pd\n",
        "pd.DataFrame(progress).plot()\n",
        "\n",
        "plt.xlabel(\"epochs\")\n",
        "plt.ylabel(\"accuracy\")\n",
        "\n",
        "plt.grid(True)\n",
        "plt.show()"
      ]
    },
    {
      "cell_type": "code",
      "execution_count": 14,
      "metadata": {
        "colab": {
          "base_uri": "https://localhost:8080/",
          "height": 0
        },
        "id": "5sNNfAN9JSyK",
        "outputId": "999bb84a-76ad-4ead-ff06-8b0827ea3375"
      },
      "outputs": [
        {
          "output_type": "stream",
          "name": "stdout",
          "text": [
            "9/9 [==============================] - 6s 263ms/step - loss: 0.5397 - accuracy: 0.9148\n",
            "Test-loss: 0.539690, Test-accuracy: 0.914815\n"
          ]
        }
      ],
      "source": [
        "testLoss_TL, testAccuracy_TL = model2_TL.evaluate(x = X_test_std, y = y_test)\n",
        "print(\"Test-loss: %f, Test-accuracy: %f\" % (testLoss_TL, testAccuracy_TL))"
      ]
    },
    {
      "cell_type": "code",
      "execution_count": 15,
      "metadata": {
        "colab": {
          "base_uri": "https://localhost:8080/",
          "height": 0
        },
        "id": "tQ0FVJAkJWCQ",
        "outputId": "4fda4415-6853-4062-bacd-a08f2646a6f3"
      },
      "outputs": [
        {
          "output_type": "stream",
          "name": "stdout",
          "text": [
            "9/9 [==============================] - 1s 90ms/step - loss: 0.5397 - accuracy: 0.9148\n",
            "Test-loss: 0.539690, Test-accuracy: 0.914815\n"
          ]
        }
      ],
      "source": [
        "# Plugging best weights to the model to evaluate\n",
        "\n",
        "model2_TL.load_weights(\"bestTL2.h5\")\n",
        "\n",
        "testLoss_TL, testAccuracy_TL = model2_TL.evaluate(x = X_test_std, y = y_test)\n",
        "\n",
        "print(\"Test-loss: %f, Test-accuracy: %f\" % (testLoss_TL, testAccuracy_TL))"
      ]
    },
    {
      "cell_type": "markdown",
      "metadata": {
        "id": "V4vn20BuZgFF"
      },
      "source": [
        "## Prediction of testing sample and inferences"
      ]
    },
    {
      "cell_type": "code",
      "execution_count": 16,
      "metadata": {
        "colab": {
          "base_uri": "https://localhost:8080/",
          "height": 0
        },
        "id": "lndx7BhbKI85",
        "outputId": "42163398-a1a3-4c97-c3ec-aacd6d820bc4"
      },
      "outputs": [
        {
          "output_type": "stream",
          "name": "stdout",
          "text": [
            "9/9 [==============================] - 3s 81ms/step\n",
            "[2 3 1 2 0 2 1 4 1 4 2 2 1 1 4 4 0 2 2 3 3 0 1 2 0 0 4 3 1 4 3 2 0 1 1 1 3\n",
            " 3 1 0 0 2 1 0 0 3 1 1 4 3 0 2 3 2 2 3 4 2 1 1 3 3 0 2 0 0 3 2 4 3 3 2 4 2\n",
            " 3 3 1 2 4 4 2 3 0 1 4 1 1 2 2 2 2 0 0 2 4 1 3 2 1 2 2 3 3 3 4 2 4 4 1 3 0\n",
            " 2 4 3 1 0 2 2 1 0 0 3 0 0 1 0 2 2 1 0 4 2 2 2 1 1 1 2 0 2 0 1 1 4 3 0 0 2\n",
            " 0 2 3 0 0 1 1 4 2 0 2 3 2 3 2 3 2 0 1 0 1 1 2 4 2 1 4 3 2 3 4 2 0 3 2 3 4\n",
            " 0 3 2 3 4 3 0 3 3 0 1 0 3 3 0 3 2 0 1 3 0 2 4 0 2 4 0 3 4 1 2 2 3 1 2 2 4\n",
            " 2 0 0 2 0 4 4 4 3 2 1 2 4 3 4 1 1 4 3 3 0 0 2 0 1 1 0 4 1 3 1 4 2 3 0 2 4\n",
            " 2 1 1 2 4 2 1 4 0 1 0]\n"
          ]
        }
      ],
      "source": [
        "y_proba = model2_TL.predict(X_test_std)\n",
        "y_predict = np.argmax(y_proba, axis=-1)\n",
        "print(y_predict)"
      ]
    },
    {
      "cell_type": "code",
      "execution_count": 17,
      "metadata": {
        "colab": {
          "base_uri": "https://localhost:8080/",
          "height": 659
        },
        "id": "ywGr4om4KRS_",
        "outputId": "13593d90-bb4d-435e-9c7b-df1c61cd0c48"
      },
      "outputs": [
        {
          "output_type": "display_data",
          "data": {
            "text/plain": [
              "<Figure size 600x600 with 1 Axes>"
            ],
            "image/png": "[encoded data removed]"
          },
          "metadata": {}
        },
        {
          "output_type": "stream",
          "name": "stdout",
          "text": [
            "{0, 1, 2, 3, 4}\n",
            "['Damask Rose' 'Echeveria Flower' 'Mirabilis Jalapa' 'Rain Lily'\n",
            " 'Zinnia Elegans']\n"
          ]
        }
      ],
      "source": [
        "# Confusion matrix of testing data\n",
        "\n",
        "from sklearn.metrics import confusion_matrix\n",
        "\n",
        "cm = confusion_matrix(y_true = y_test, y_pred = y_predict)\n",
        "\n",
        "fig, ax = plt.subplots(figsize=(6, 6))\n",
        "ax.matshow(cm, cmap=plt.cm.Blues, alpha=0.3)\n",
        "\n",
        "for i in range(cm.shape[0]):\n",
        "    for j in range(cm.shape[1]):\n",
        "        ax.text(x=j, y=i, s=cm[i, j], va='center', ha='center')\n",
        "\n",
        "ax.title.set_text('CNN\\n')\n",
        "plt.xlabel('Predicted label')\n",
        "plt.ylabel('True label')\n",
        "\n",
        "plt.tight_layout()\n",
        "plt.show()\n",
        "\n",
        "print(set(y))\n",
        "print(lEncoder.classes_)"
      ]
    },
    {
      "cell_type": "code",
      "execution_count": 18,
      "metadata": {
        "colab": {
          "base_uri": "https://localhost:8080/",
          "height": 0
        },
        "id": "q9wuY8zDKiSH",
        "outputId": "c8da383d-ba6c-4502-b6df-0c8a8d4dcb5a"
      },
      "outputs": [
        {
          "output_type": "stream",
          "name": "stdout",
          "text": [
            "Precision:  0.9220880945081109\n",
            "Recall:  0.9148148148148149\n",
            "F1-score:  0.9159561057711182\n"
          ]
        }
      ],
      "source": [
        "# Calculating the precision, recall and f1 score\n",
        "\n",
        "from sklearn.metrics import precision_score, recall_score, f1_score\n",
        "\n",
        "pScore = precision_score(y_true= y_test, y_pred = y_predict, average = 'weighted')\n",
        "print(\"Precision: \", pScore)\n",
        "\n",
        "rScore = recall_score(y_true= y_test, y_pred = y_predict, average = 'weighted')\n",
        "print(\"Recall: \", rScore)\n",
        "\n",
        "fScore = f1_score(y_true= y_test, y_pred = y_predict, average = 'weighted')\n",
        "print(\"F1-score: \", fScore)"
      ]
    },
    {
      "cell_type": "markdown",
      "metadata": {
        "id": "btyKFl9bZnFk"
      },
      "source": [
        "## Save the final Transfer Learning model"
      ]
    },
    {
      "cell_type": "code",
      "execution_count": 19,
      "metadata": {
        "colab": {
          "base_uri": "https://localhost:8080/",
          "height": 0
        },
        "id": "JktJiUpIKr7W",
        "outputId": "a768bc22-6482-4c9a-f0a0-44f1d3670372"
      },
      "outputs": [
        {
          "output_type": "stream",
          "name": "stderr",
          "text": [
            "/usr/local/lib/python3.10/dist-packages/keras/src/engine/training.py:3103: UserWarning: You are saving your model as an HDF5 file via `model.save()`. This file format is considered legacy. We recommend using instead the native Keras format, e.g. `model.save('my_model.keras')`.\n",
            "  saving_api.save_model(\n"
          ]
        }
      ],
      "source": [
        "model2_TL.save(\"/content/drive/MyDrive/Abbinav's Portfolio/DL_Course_Project/Models/Model2_TL.h5\")"
      ]
    },
    {
      "cell_type": "code",
      "execution_count": 20,
      "metadata": {
        "id": "6TlLGqgsLfsi"
      },
      "outputs": [],
      "source": [
        "from numpy import save\n",
        "\n",
        "save(\"/content/drive/MyDrive/Abbinav's Portfolio/DL_Course_Project/Models/X_train_std2.npy\", X_train_std)\n",
        "save(\"/content/drive/MyDrive/Abbinav's Portfolio/DL_Course_Project/Models/X_test_std2.npy\", X_test_std)\n",
        "\n",
        "save(\"/content/drive/MyDrive/Abbinav's Portfolio/DL_Course_Project/Models/y_train2.npy\", y_train)\n",
        "save(\"/content/drive/MyDrive/Abbinav's Portfolio/DL_Course_Project/Models/y_test2.npy\", y_test)"
      ]
    }
  ],
  "metadata": {
    "accelerator": "GPU",
    "colab": {
      "provenance": []
    },
    "kernelspec": {
      "display_name": "Python 3",
      "name": "python3"
    },
    "language_info": {
      "codemirror_mode": {
        "name": "ipython",
        "version": 3
      },
      "file_extension": ".py",
      "mimetype": "text/x-python",
      "name": "python",
      "nbconvert_exporter": "python",
      "pygments_lexer": "ipython3",
      "version": "3.11.4"
    }
  },
  "nbformat": 4,
  "nbformat_minor": 0
}