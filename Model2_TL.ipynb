{
  "cells": [
    {
      "cell_type": "markdown",
      "metadata": {
        "id": "pQBAOhyNTwP9"
      },
      "source": [
        "# Model 2 Transfer Learning\n",
        "- EfficientNetV2B0"
      ]
    },
    {
      "cell_type": "markdown",
      "metadata": {
        "id": "wASvzvMLT31F"
      },
      "source": [
        "## Import necessary libraries"
      ]
    },
    {
      "cell_type": "code",
      "execution_count": 1,
      "metadata": {
        "colab": {
          "base_uri": "https://localhost:8080/"
        },
        "id": "hzJXPzbJEKM6",
        "outputId": "a151c1ed-3360-4d49-9e14-47c4a157cf89"
      },
      "outputs": [
        {
          "output_type": "stream",
          "name": "stdout",
          "text": [
            "2.15.0\n"
          ]
        }
      ],
      "source": [
        "import tensorflow as tf\n",
        "print(tf.__version__)\n",
        "\n",
        "from tensorflow import keras\n",
        "tf.random.set_seed(42)\n",
        "\n",
        "import numpy as np\n",
        "np.random.seed(42)\n",
        "\n",
        "import matplotlib.pyplot as plt\n",
        "%matplotlib inline\n",
        "\n",
        "import glob\n",
        "import PIL\n",
        "from PIL import Image"
      ]
    },
    {
      "cell_type": "code",
      "execution_count": 2,
      "metadata": {
        "colab": {
          "base_uri": "https://localhost:8080/"
        },
        "id": "BP-9UGuEFGne",
        "outputId": "583de1c9-a0d6-4259-d9d1-1fe19650946f"
      },
      "outputs": [
        {
          "output_type": "stream",
          "name": "stdout",
          "text": [
            "Drive already mounted at /content/drive/; to attempt to forcibly remount, call drive.mount(\"/content/drive/\", force_remount=True).\n"
          ]
        }
      ],
      "source": [
        "from google.colab import drive\n",
        "drive.mount('/content/drive/')"
      ]
    },
    {
      "cell_type": "markdown",
      "metadata": {
        "id": "V_8om9e3T_QS"
      },
      "source": [
        "## Load all .jpeg and .jpg files"
      ]
    },
    {
      "cell_type": "code",
      "execution_count": 3,
      "metadata": {
        "colab": {
          "base_uri": "https://localhost:8080/"
        },
        "id": "QqUnKLH6EKM8",
        "outputId": "2622e7a8-9ed2-4807-f3ad-b42e56c08c5e"
      },
      "outputs": [
        {
          "output_type": "stream",
          "name": "stdout",
          "text": [
            "/content/drive/MyDrive/Abbinav's Portfolio/Transfer Learning CNN project/Ornamental_Plants/Damask Rose/Damask Rose (123).jpeg\n",
            "/content/drive/MyDrive/Abbinav's Portfolio/Transfer Learning CNN project/Ornamental_Plants/Damask Rose/Damask Rose (100).jpeg\n",
            "/content/drive/MyDrive/Abbinav's Portfolio/Transfer Learning CNN project/Ornamental_Plants/Damask Rose/Damask Rose (115).jpeg\n",
            "/content/drive/MyDrive/Abbinav's Portfolio/Transfer Learning CNN project/Ornamental_Plants/Damask Rose/Damask Rose (113).jpeg\n",
            "/content/drive/MyDrive/Abbinav's Portfolio/Transfer Learning CNN project/Ornamental_Plants/Damask Rose/Damask Rose (107).jpeg\n",
            "The total number of img files :  1079\n",
            "The total number of damask rose images:  225\n",
            "The total number of rain lily images:  224\n",
            "The total number of echeveria flower images:  225\n",
            "The total number of mirabilis jalapa images:  225\n",
            "The total number of zinnia elegans images:  180\n"
          ]
        }
      ],
      "source": [
        "damask_rose = glob.glob(\"/content/drive/MyDrive/Abbinav's Portfolio/Transfer Learning CNN project/Ornamental_Plants/Damask Rose/*.jpeg\")\n",
        "rain_lily = glob.glob(\"/content/drive/MyDrive/Abbinav's Portfolio/Transfer Learning CNN project/Ornamental_Plants/Rain Lily/*.jpeg\")\n",
        "echeveria_flower = glob.glob(\"/content/drive/MyDrive/Abbinav's Portfolio/Transfer Learning CNN project/Ornamental_Plants/Echeveria Flower/*.jpg\")\n",
        "mirabilis_jalapa = glob.glob(\"/content/drive/MyDrive/Abbinav's Portfolio/Transfer Learning CNN project/Ornamental_Plants/Mirabilis Jalapa/*.jpg\")\n",
        "zinnia_elegans = glob.glob(\"/content/drive/MyDrive/Abbinav's Portfolio/Transfer Learning CNN project/Ornamental_Plants/Zinnia Elegans/*.jpg\")\n",
        "\n",
        "total_drose = len(damask_rose)\n",
        "total_rlily = len(rain_lily)\n",
        "total_eflower = len(echeveria_flower)\n",
        "total_mjalapa = len(mirabilis_jalapa)\n",
        "total_zelegans = len(zinnia_elegans)\n",
        "\n",
        "# Use 45% of images in each file\n",
        "ImgFiles = damask_rose[:round(0.45*total_drose)] + rain_lily[:round(0.45*total_rlily)] + echeveria_flower[:round(0.45*total_eflower)] + mirabilis_jalapa[:round(0.45*total_mjalapa)] + zinnia_elegans[:round(0.45*total_zelegans)]\n",
        "\n",
        "for items in ImgFiles[:5]:\n",
        "    print(items)\n",
        "\n",
        "print(\"The total number of img files : \", len(ImgFiles))\n",
        "print(\"The total number of damask rose images: \", round(0.45*total_drose))\n",
        "print(\"The total number of rain lily images: \", round(0.45*total_rlily))\n",
        "print(\"The total number of echeveria flower images: \", round(0.45*total_eflower))\n",
        "print(\"The total number of mirabilis jalapa images: \", round(0.45*total_mjalapa))\n",
        "print(\"The total number of zinnia elegans images: \", round(0.45*total_zelegans))"
      ]
    },
    {
      "cell_type": "markdown",
      "metadata": {
        "id": "OMsTN8GZUz8G"
      },
      "source": [
        "## Prepare the dataset and populate X and y"
      ]
    },
    {
      "cell_type": "code",
      "execution_count": 4,
      "metadata": {
        "id": "QaoJcrPiEKM9"
      },
      "outputs": [],
      "source": [
        "X = []\n",
        "y = []\n",
        "\n",
        "for fName in ImgFiles:\n",
        "\n",
        "  X_i = Image.open(fName)\n",
        "  X_i = X_i.resize((299,299))\n",
        "  X_i = np.array(X_i) / 255.0\n",
        "\n",
        "  X.append(X_i)\n",
        "\n",
        "  label = fName.split('/')\n",
        "  y_i = label[-2]\n",
        "\n",
        "  y.append(y_i)"
      ]
    },
    {
      "cell_type": "code",
      "execution_count": 5,
      "metadata": {
        "colab": {
          "base_uri": "https://localhost:8080/"
        },
        "id": "kQ_F6QaxyNxx",
        "outputId": "3e2adf82-071f-4f31-8f76-5603ec4da03b"
      },
      "outputs": [
        {
          "output_type": "stream",
          "name": "stdout",
          "text": [
            "{'Mirabilis Jalapa', 'Damask Rose', 'Rain Lily', 'Zinnia Elegans', 'Echeveria Flower'}\n",
            "1079\n",
            "1079\n"
          ]
        }
      ],
      "source": [
        "print(set(y)) # classes\n",
        "\n",
        "print(len(X)) # Number of samples\n",
        "print(len(y))"
      ]
    },
    {
      "cell_type": "code",
      "execution_count": 6,
      "metadata": {
        "colab": {
          "base_uri": "https://localhost:8080/"
        },
        "id": "XTg3gYZ1EKM-",
        "outputId": "2e50fe1d-2d77-4f52-bcf3-c85a10a971eb"
      },
      "outputs": [
        {
          "output_type": "stream",
          "name": "stdout",
          "text": [
            "{0, 1, 2, 3, 4}\n",
            "['Damask Rose' 'Echeveria Flower' 'Mirabilis Jalapa' 'Rain Lily'\n",
            " 'Zinnia Elegans']\n"
          ]
        }
      ],
      "source": [
        "# Transform y (classes) into integer values using label encoder\n",
        "\n",
        "from sklearn.preprocessing import LabelEncoder\n",
        "\n",
        "lEncoder = LabelEncoder()\n",
        "y = lEncoder.fit_transform(y)\n",
        "\n",
        "print(set(y))\n",
        "print(lEncoder.classes_)"
      ]
    },
    {
      "cell_type": "code",
      "execution_count": 7,
      "metadata": {
        "colab": {
          "base_uri": "https://localhost:8080/"
        },
        "id": "Vz1rRsYax1Ua",
        "outputId": "fe2760d8-2d74-4f95-d267-45cb26d1371b"
      },
      "outputs": [
        {
          "output_type": "stream",
          "name": "stdout",
          "text": [
            "(1079, 299, 299, 3)\n",
            "(1079,)\n"
          ]
        }
      ],
      "source": [
        "# Convert X and y to numpy arrays\n",
        "\n",
        "X = np.array(X)\n",
        "y = np.array(y)\n",
        "\n",
        "print(X.shape)\n",
        "print(y.shape)"
      ]
    },
    {
      "cell_type": "markdown",
      "metadata": {
        "id": "y_Aa9JmS0CII"
      },
      "source": [
        "## Train - Test split (75-25)"
      ]
    },
    {
      "cell_type": "code",
      "execution_count": 8,
      "metadata": {
        "colab": {
          "base_uri": "https://localhost:8080/"
        },
        "id": "QJorycjNEKM-",
        "outputId": "e87a3c5b-dc4f-40cd-ea42-79490ba692f1"
      },
      "outputs": [
        {
          "output_type": "stream",
          "name": "stdout",
          "text": [
            "X_train_shape: (809, 299, 299, 3)\n",
            "X_test_shape: (270, 299, 299, 3)\n"
          ]
        }
      ],
      "source": [
        "from sklearn.model_selection import train_test_split\n",
        "\n",
        "X_train, X_test, y_train, y_test = train_test_split(X, y,\n",
        "                                                    test_size=0.25,\n",
        "                                                    stratify = y,\n",
        "                                                    random_state=42)\n",
        "\n",
        "print(\"X_train_shape: {}\".format(X_train.shape))\n",
        "print(\"X_test_shape: {}\".format(X_test.shape))"
      ]
    },
    {
      "cell_type": "code",
      "execution_count": 9,
      "metadata": {
        "id": "zCL0XKqHEKM-"
      },
      "outputs": [],
      "source": [
        "# Standardizing X_train and X_test\n",
        "\n",
        "mu = X_train.mean()\n",
        "std = X_train.std()\n",
        "\n",
        "X_train_std = (X_train-mu)/std\n",
        "X_test_std = (X_test-mu)/std"
      ]
    },
    {
      "cell_type": "markdown",
      "metadata": {
        "id": "vzrCv5Kpe2ni"
      },
      "source": [
        "### Total Number of images in the dataset = 1079\n",
        "\n",
        "### Number of images present per class:\n",
        "- Damask rose:  225\n",
        "- Rain lily:  224\n",
        "- Echeveria flower:  225\n",
        "- Mirabilis jalapa:  225\n",
        "- Zinnia elegans:  180\n",
        "\n",
        "### Total number of images for Training and Testing:\n",
        "- Training : 809\n",
        "- Testing : 270"
      ]
    },
    {
      "cell_type": "markdown",
      "metadata": {
        "id": "AlwRuusZzKYL"
      },
      "source": [
        "## Retrieve InceptionResNetV2 model and preparing the CNN model architecture"
      ]
    },
    {
      "cell_type": "code",
      "execution_count": 10,
      "metadata": {
        "id": "VImjiCK9EKM_"
      },
      "outputs": [],
      "source": [
        "# Using InceptionResNetV2 model without classifier as base model\n",
        "base_model = keras.applications.EfficientNetV2B0(\n",
        "                include_top=False,\n",
        "                weights=\"imagenet\"\n",
        ")\n",
        "\n",
        "# Freeze the weights - will not be updated during backpropagation\n",
        "for layer in base_model.layers:\n",
        "  layer.trainable = False\n",
        "\n",
        "# Adding classifier\n",
        "global_pool = keras.layers.GlobalAveragePooling2D()(base_model.output)\n",
        "\n",
        "x = keras.layers.BatchNormalization()(global_pool)\n",
        "x = keras.layers.Dropout(0.35)(x)\n",
        "\n",
        "output_ = keras.layers.Dense(units=5, activation='softmax')(x)\n",
        "\n",
        "model2_TL = keras.models.Model(inputs=[base_model.input], outputs=[output_])"
      ]
    },
    {
      "cell_type": "markdown",
      "metadata": {
        "id": "zBAZA4XFBatm"
      },
      "source": [
        "## Compile, fit and evaluate the model.\n",
        "- Save the best weights"
      ]
    },
    {
      "cell_type": "code",
      "execution_count": 11,
      "metadata": {
        "colab": {
          "base_uri": "https://localhost:8080/"
        },
        "id": "T97F4vJyEKM_",
        "outputId": "b8a99115-edb8-4f2e-dfcb-103b3a2755f0"
      },
      "outputs": [
        {
          "output_type": "stream",
          "name": "stdout",
          "text": [
            "Epoch 1/10\n",
            "46/46 [==============================] - 21s 158ms/step - loss: 1.3311 - accuracy: 0.4849 - val_loss: 1.4394 - val_accuracy: 0.2346\n",
            "Epoch 2/10\n",
            "46/46 [==============================] - 3s 72ms/step - loss: 0.9542 - accuracy: 0.6085 - val_loss: 1.3470 - val_accuracy: 0.3210\n",
            "Epoch 3/10\n",
            "46/46 [==============================] - 3s 67ms/step - loss: 0.7685 - accuracy: 0.6799 - val_loss: 1.2431 - val_accuracy: 0.4568\n",
            "Epoch 4/10\n",
            "46/46 [==============================] - 3s 67ms/step - loss: 0.7610 - accuracy: 0.6951 - val_loss: 1.1389 - val_accuracy: 0.6914\n",
            "Epoch 5/10\n",
            "46/46 [==============================] - 3s 62ms/step - loss: 0.6845 - accuracy: 0.7527 - val_loss: 1.0161 - val_accuracy: 0.7284\n",
            "Epoch 6/10\n",
            "46/46 [==============================] - 3s 66ms/step - loss: 0.6578 - accuracy: 0.7459 - val_loss: 0.8960 - val_accuracy: 0.8395\n",
            "Epoch 7/10\n",
            "46/46 [==============================] - 3s 64ms/step - loss: 0.6070 - accuracy: 0.7651 - val_loss: 0.7857 - val_accuracy: 0.8272\n",
            "Epoch 8/10\n",
            "46/46 [==============================] - 3s 63ms/step - loss: 0.6409 - accuracy: 0.7376 - val_loss: 0.6651 - val_accuracy: 0.8889\n",
            "Epoch 9/10\n",
            "46/46 [==============================] - 3s 55ms/step - loss: 0.5726 - accuracy: 0.7720 - val_loss: 0.5933 - val_accuracy: 0.8642\n",
            "Epoch 10/10\n",
            "46/46 [==============================] - 3s 56ms/step - loss: 0.5881 - accuracy: 0.7569 - val_loss: 0.5401 - val_accuracy: 0.8519\n"
          ]
        }
      ],
      "source": [
        "model2_TL.compile(loss='sparse_categorical_crossentropy',\n",
        "                 optimizer='adam',\n",
        "                 metrics=['accuracy'])\n",
        "\n",
        "callbacks2_TL = [\n",
        "             keras.callbacks.ModelCheckpoint(\"bestTL2.h5\",\n",
        "                                             monitor='val_accuracy',\n",
        "                                             save_weights_only=True,\n",
        "                                             save_best_only=True)]\n",
        "\n",
        "history2_TL = model2_TL.fit(x = X_train_std, y = y_train, epochs=10,\n",
        "                          validation_split=0.1, batch_size=16, callbacks=callbacks2_TL)"
      ]
    },
    {
      "cell_type": "code",
      "execution_count": 12,
      "metadata": {
        "colab": {
          "base_uri": "https://localhost:8080/",
          "height": 449
        },
        "id": "ZeJDq0IRJKje",
        "outputId": "8b0ea5e3-8b34-4982-82c8-5b658f0d90d4"
      },
      "outputs": [
        {
          "output_type": "display_data",
          "data": {
            "text/plain": [
              "<Figure size 640x480 with 1 Axes>"
            ],
            "image/png": "[encoded data removed]"
          },
          "metadata": {}
        }
      ],
      "source": [
        "keys = ['accuracy', 'val_accuracy']\n",
        "progress = {k:v for k,v in history2_TL.history.items() if k in keys}\n",
        "\n",
        "import pandas as pd\n",
        "pd.DataFrame(progress).plot()\n",
        "\n",
        "plt.xlabel(\"epochs\")\n",
        "plt.ylabel(\"accuracy\")\n",
        "\n",
        "plt.grid(True)\n",
        "plt.show()"
      ]
    },
    {
      "cell_type": "code",
      "execution_count": 13,
      "metadata": {
        "colab": {
          "base_uri": "https://localhost:8080/"
        },
        "id": "5sNNfAN9JSyK",
        "outputId": "15f83166-126f-4303-9dbc-8272d83d3510"
      },
      "outputs": [
        {
          "output_type": "stream",
          "name": "stdout",
          "text": [
            "9/9 [==============================] - 4s 247ms/step - loss: 0.5293 - accuracy: 0.9185\n",
            "Test-loss: 0.529307, Test-accuracy: 0.918519\n"
          ]
        }
      ],
      "source": [
        "testLoss_TL, testAccuracy_TL = model2_TL.evaluate(x = X_test_std, y = y_test)\n",
        "print(\"Test-loss: %f, Test-accuracy: %f\" % (testLoss_TL, testAccuracy_TL))"
      ]
    },
    {
      "cell_type": "code",
      "execution_count": 14,
      "metadata": {
        "colab": {
          "base_uri": "https://localhost:8080/"
        },
        "id": "tQ0FVJAkJWCQ",
        "outputId": "217ef8ba-8eac-41fa-f78e-4923d08debdd"
      },
      "outputs": [
        {
          "output_type": "stream",
          "name": "stdout",
          "text": [
            "9/9 [==============================] - 1s 83ms/step - loss: 0.6732 - accuracy: 0.8407\n",
            "Test-loss: 0.673173, Test-accuracy: 0.840741\n"
          ]
        }
      ],
      "source": [
        "# Plugging best weights to the model to evaluate\n",
        "\n",
        "model2_TL.load_weights(\"bestTL2.h5\")\n",
        "\n",
        "testLoss_TL, testAccuracy_TL = model2_TL.evaluate(x = X_test_std, y = y_test)\n",
        "\n",
        "print(\"Test-loss: %f, Test-accuracy: %f\" % (testLoss_TL, testAccuracy_TL))"
      ]
    },
    {
      "cell_type": "markdown",
      "metadata": {
        "id": "V4vn20BuZgFF"
      },
      "source": [
        "## Prediction of testing sample and inferences"
      ]
    },
    {
      "cell_type": "code",
      "execution_count": 15,
      "metadata": {
        "colab": {
          "base_uri": "https://localhost:8080/"
        },
        "id": "lndx7BhbKI85",
        "outputId": "aff25097-e51c-4db4-cf58-5e76e6860bfa"
      },
      "outputs": [
        {
          "output_type": "stream",
          "name": "stdout",
          "text": [
            "9/9 [==============================] - 2s 85ms/step\n",
            "[2 3 1 0 0 2 0 4 1 4 2 2 0 1 4 4 0 2 2 3 3 0 0 2 0 0 4 3 1 4 3 2 0 1 1 0 3\n",
            " 3 1 0 0 2 1 0 0 3 0 1 4 3 0 2 3 2 2 3 4 2 0 0 3 3 0 2 0 0 3 2 4 3 3 2 4 2\n",
            " 3 3 0 2 4 4 2 3 0 1 4 0 1 2 2 2 2 0 0 2 4 0 3 2 1 2 2 3 3 2 4 2 4 4 0 3 2\n",
            " 2 4 3 0 0 2 2 1 0 0 3 2 0 1 0 2 2 1 2 4 2 2 2 0 1 0 2 0 2 0 0 1 4 3 0 0 2\n",
            " 0 2 3 0 0 1 0 4 2 0 2 3 2 3 2 3 0 2 1 0 1 1 2 4 2 1 4 3 2 3 4 2 0 3 2 3 4\n",
            " 0 3 2 3 4 3 0 3 3 0 1 0 3 3 0 3 2 0 1 3 2 2 4 0 0 4 0 3 4 1 2 1 3 1 2 2 4\n",
            " 2 0 0 2 0 4 4 4 3 2 1 2 4 3 4 0 1 4 3 3 0 0 2 0 1 0 1 4 0 3 1 4 2 3 0 2 4\n",
            " 2 1 1 2 4 2 1 4 0 1 0]\n"
          ]
        }
      ],
      "source": [
        "y_proba = model2_TL.predict(X_test_std)\n",
        "y_predict = np.argmax(y_proba, axis=-1)\n",
        "print(y_predict)"
      ]
    },
    {
      "cell_type": "code",
      "execution_count": 16,
      "metadata": {
        "colab": {
          "base_uri": "https://localhost:8080/",
          "height": 659
        },
        "id": "ywGr4om4KRS_",
        "outputId": "2e6aed6f-3af7-4918-eeee-75be088319e1"
      },
      "outputs": [
        {
          "output_type": "display_data",
          "data": {
            "text/plain": [
              "<Figure size 600x600 with 1 Axes>"
            ],
            "image/png": "[encoded data removed]"
          },
          "metadata": {}
        },
        {
          "output_type": "stream",
          "name": "stdout",
          "text": [
            "{0, 1, 2, 3, 4}\n",
            "['Damask Rose' 'Echeveria Flower' 'Mirabilis Jalapa' 'Rain Lily'\n",
            " 'Zinnia Elegans']\n"
          ]
        }
      ],
      "source": [
        "# Confusion matrix of testing data\n",
        "\n",
        "from sklearn.metrics import confusion_matrix\n",
        "\n",
        "cm = confusion_matrix(y_true = y_test, y_pred = y_predict)\n",
        "\n",
        "fig, ax = plt.subplots(figsize=(6, 6))\n",
        "ax.matshow(cm, cmap=plt.cm.Blues, alpha=0.3)\n",
        "\n",
        "for i in range(cm.shape[0]):\n",
        "    for j in range(cm.shape[1]):\n",
        "        ax.text(x=j, y=i, s=cm[i, j], va='center', ha='center')\n",
        "\n",
        "ax.title.set_text('CNN\\n')\n",
        "plt.xlabel('Predicted label')\n",
        "plt.ylabel('True label')\n",
        "\n",
        "plt.tight_layout()\n",
        "plt.show()\n",
        "\n",
        "print(set(y))\n",
        "print(lEncoder.classes_)"
      ]
    },
    {
      "cell_type": "code",
      "execution_count": 17,
      "metadata": {
        "colab": {
          "base_uri": "https://localhost:8080/"
        },
        "id": "q9wuY8zDKiSH",
        "outputId": "899ddbf3-0709-4011-9d78-a1cece2b1784"
      },
      "outputs": [
        {
          "output_type": "stream",
          "name": "stdout",
          "text": [
            "Precision:  0.8650321683185532\n",
            "Recall:  0.8407407407407408\n",
            "F1-score:  0.8403602268718354\n"
          ]
        }
      ],
      "source": [
        "# Calculating the precision, recall and f1 score\n",
        "\n",
        "from sklearn.metrics import precision_score, recall_score, f1_score\n",
        "\n",
        "pScore = precision_score(y_true= y_test, y_pred = y_predict, average = 'weighted')\n",
        "print(\"Precision: \", pScore)\n",
        "\n",
        "rScore = recall_score(y_true= y_test, y_pred = y_predict, average = 'weighted')\n",
        "print(\"Recall: \", rScore)\n",
        "\n",
        "fScore = f1_score(y_true= y_test, y_pred = y_predict, average = 'weighted')\n",
        "print(\"F1-score: \", fScore)"
      ]
    },
    {
      "cell_type": "markdown",
      "metadata": {
        "id": "btyKFl9bZnFk"
      },
      "source": [
        "## Save the final Transfer Learning model"
      ]
    },
    {
      "cell_type": "code",
      "execution_count": 18,
      "metadata": {
        "colab": {
          "base_uri": "https://localhost:8080/"
        },
        "id": "JktJiUpIKr7W",
        "outputId": "29285f73-b0d2-40b1-cccb-2f7729189692"
      },
      "outputs": [
        {
          "output_type": "stream",
          "name": "stderr",
          "text": [
            "/usr/local/lib/python3.10/dist-packages/keras/src/engine/training.py:3103: UserWarning: You are saving your model as an HDF5 file via `model.save()`. This file format is considered legacy. We recommend using instead the native Keras format, e.g. `model.save('my_model.keras')`.\n",
            "  saving_api.save_model(\n"
          ]
        }
      ],
      "source": [
        "model2_TL.save(\"/content/drive/MyDrive/Abbinav's Portfolio/Transfer Learning CNN project/Models/Model2_TL.h5\")"
      ]
    },
    {
      "cell_type": "code",
      "execution_count": 19,
      "metadata": {
        "id": "6TlLGqgsLfsi"
      },
      "outputs": [],
      "source": [
        "from numpy import save\n",
        "\n",
        "save(\"/content/drive/MyDrive/Abbinav's Portfolio/Transfer Learning CNN project/Models/X_train_std2.npy\", X_train_std)\n",
        "save(\"/content/drive/MyDrive/Abbinav's Portfolio/Transfer Learning CNN project/Models/X_test_std2.npy\", X_test_std)\n",
        "\n",
        "save(\"/content/drive/MyDrive/Abbinav's Portfolio/Transfer Learning CNN project/Models/y_train2.npy\", y_train)\n",
        "save(\"/content/drive/MyDrive/Abbinav's Portfolio/Transfer Learning CNN project/Models/y_test2.npy\", y_test)"
      ]
    }
  ],
  "metadata": {
    "accelerator": "GPU",
    "colab": {
      "provenance": []
    },
    "kernelspec": {
      "display_name": "Python 3",
      "name": "python3"
    },
    "language_info": {
      "codemirror_mode": {
        "name": "ipython",
        "version": 3
      },
      "file_extension": ".py",
      "mimetype": "text/x-python",
      "name": "python",
      "nbconvert_exporter": "python",
      "pygments_lexer": "ipython3",
      "version": "3.11.4"
    }
  },
  "nbformat": 4,
  "nbformat_minor": 0
}